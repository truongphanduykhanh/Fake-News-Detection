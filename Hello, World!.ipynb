{
 "cells": [
  {
   "cell_type": "markdown",
   "metadata": {},
   "source": [
    "# Khanh Truong - Coline Merlen (Web Mining | March 2019)"
   ]
  },
  {
   "cell_type": "code",
   "execution_count": 1,
   "metadata": {},
   "outputs": [],
   "source": [
    "%matplotlib inline\n",
    "import networkx as nx\n",
    "import numpy as np\n",
    "import pandas as pd\n",
    "import seaborn as sns\n",
    "from scipy import stats\n",
    "\n",
    "import matplotlib.pyplot as plt\n",
    "\n",
    "import os\n",
    "from sklearn.model_selection import train_test_split\n",
    "from sklearn.metrics import f1_score\n",
    "from datetime import datetime\n",
    "import pickle"
   ]
  },
  {
   "cell_type": "markdown",
   "metadata": {},
   "source": [
    "# Graph Approach"
   ]
  },
  {
   "cell_type": "code",
   "execution_count": 2,
   "metadata": {},
   "outputs": [],
   "source": [
    "g = nx.read_adjlist('fake-news-prediction-toulouse/data_competition/UserUser.txt')"
   ]
  },
  {
   "cell_type": "code",
   "execution_count": 3,
   "metadata": {
    "scrolled": true
   },
   "outputs": [
    {
     "name": "stdout",
     "output_type": "stream",
     "text": [
      "Number of nodes: 23865\n",
      "Number of edges: 408824\n"
     ]
    }
   ],
   "source": [
    "print('Number of nodes: {}'.format(len(g.node)))\n",
    "print('Number of edges: {}'.format(len(g.edges)))"
   ]
  },
  {
   "cell_type": "code",
   "execution_count": 4,
   "metadata": {},
   "outputs": [
    {
     "data": {
      "image/png": "[encoded data removed]",
      "text/plain": [
       "<Figure size 432x288 with 1 Axes>"
      ]
     },
     "metadata": {
      "needs_background": "light"
     },
     "output_type": "display_data"
    }
   ],
   "source": [
    "deg = nx.degree(g)\n",
    "df = pd.Series([y for (x,y) in deg])\n",
    "sns.distplot(df, bins=20, kde=False, fit=stats.powerlaw)\n",
    "plt.show()"
   ]
  },
  {
   "cell_type": "code",
   "execution_count": 5,
   "metadata": {},
   "outputs": [
    {
     "data": {
      "image/png": "[encoded data removed]",
      "text/plain": [
       "<Figure size 432x288 with 1 Axes>"
      ]
     },
     "metadata": {
      "needs_background": "light"
     },
     "output_type": "display_data"
    }
   ],
   "source": [
    "cc = [len(c) for c in sorted(nx.connected_components(g), key=len, reverse=True)]\n",
    "sns.boxplot(cc)\n",
    "plt.show()"
   ]
  },
  {
   "cell_type": "code",
   "execution_count": 6,
   "metadata": {},
   "outputs": [],
   "source": [
    "largest_cc = max(nx.connected_component_subgraphs(g), key=len)"
   ]
  },
  {
   "cell_type": "markdown",
   "metadata": {},
   "source": [
    "### Prediction"
   ]
  },
  {
   "cell_type": "code",
   "execution_count": 7,
   "metadata": {},
   "outputs": [
    {
     "data": {
      "text/html": [
       "<div>\n",
       "<style scoped>\n",
       "    .dataframe tbody tr th:only-of-type {\n",
       "        vertical-align: middle;\n",
       "    }\n",
       "\n",
       "    .dataframe tbody tr th {\n",
       "        vertical-align: top;\n",
       "    }\n",
       "\n",
       "    .dataframe thead th {\n",
       "        text-align: right;\n",
       "    }\n",
       "</style>\n",
       "<table border=\"1\" class=\"dataframe\">\n",
       "  <thead>\n",
       "    <tr style=\"text-align: right;\">\n",
       "      <th></th>\n",
       "      <th>news</th>\n",
       "      <th>fake</th>\n",
       "    </tr>\n",
       "  </thead>\n",
       "  <tbody>\n",
       "    <tr>\n",
       "      <th>0</th>\n",
       "      <td>1</td>\n",
       "      <td>0</td>\n",
       "    </tr>\n",
       "    <tr>\n",
       "      <th>1</th>\n",
       "      <td>3</td>\n",
       "      <td>0</td>\n",
       "    </tr>\n",
       "    <tr>\n",
       "      <th>2</th>\n",
       "      <td>5</td>\n",
       "      <td>0</td>\n",
       "    </tr>\n",
       "    <tr>\n",
       "      <th>3</th>\n",
       "      <td>6</td>\n",
       "      <td>0</td>\n",
       "    </tr>\n",
       "    <tr>\n",
       "      <th>4</th>\n",
       "      <td>8</td>\n",
       "      <td>0</td>\n",
       "    </tr>\n",
       "  </tbody>\n",
       "</table>\n",
       "</div>"
      ],
      "text/plain": [
       "   news  fake\n",
       "0     1     0\n",
       "1     3     0\n",
       "2     5     0\n",
       "3     6     0\n",
       "4     8     0"
      ]
     },
     "execution_count": 7,
     "metadata": {},
     "output_type": "execute_result"
    }
   ],
   "source": [
    "# Import label data\n",
    "label = pd.read_csv('fake-news-prediction-toulouse/data_competition/labels_training.txt', sep=',')\n",
    "label.columns = ['news', 'fake']\n",
    "label.head()"
   ]
  },
  {
   "cell_type": "code",
   "execution_count": 9,
   "metadata": {},
   "outputs": [
    {
     "name": "stdout",
     "output_type": "stream",
     "text": [
      "% fake in whole set: 0.5025906735751295\n",
      "% fake in train set: 0.4935064935064935\n"
     ]
    }
   ],
   "source": [
    "# Split into train and test sets\n",
    "label_train, label_test = train_test_split(label, test_size=0.2, random_state=1234)\n",
    "\n",
    "print('% fake in whole set: {}'.format(label.fake.mean()))\n",
    "print('% fake in train set: {}'.format(label_train.fake.mean()))\n",
    "\n",
    "# From now on, only label_train is used to train the model."
   ]
  },
  {
   "cell_type": "code",
   "execution_count": 10,
   "metadata": {},
   "outputs": [
    {
     "data": {
      "text/html": [
       "<div>\n",
       "<style scoped>\n",
       "    .dataframe tbody tr th:only-of-type {\n",
       "        vertical-align: middle;\n",
       "    }\n",
       "\n",
       "    .dataframe tbody tr th {\n",
       "        vertical-align: top;\n",
       "    }\n",
       "\n",
       "    .dataframe thead th {\n",
       "        text-align: right;\n",
       "    }\n",
       "</style>\n",
       "<table border=\"1\" class=\"dataframe\">\n",
       "  <thead>\n",
       "    <tr style=\"text-align: right;\">\n",
       "      <th></th>\n",
       "      <th>news</th>\n",
       "      <th>user</th>\n",
       "      <th>time</th>\n",
       "      <th>fake</th>\n",
       "      <th>fake_count</th>\n",
       "    </tr>\n",
       "  </thead>\n",
       "  <tbody>\n",
       "    <tr>\n",
       "      <th>0</th>\n",
       "      <td>240</td>\n",
       "      <td>1</td>\n",
       "      <td>1</td>\n",
       "      <td>1.0</td>\n",
       "      <td>1.0</td>\n",
       "    </tr>\n",
       "    <tr>\n",
       "      <th>2</th>\n",
       "      <td>162</td>\n",
       "      <td>3</td>\n",
       "      <td>1</td>\n",
       "      <td>1.0</td>\n",
       "      <td>1.0</td>\n",
       "    </tr>\n",
       "    <tr>\n",
       "      <th>3</th>\n",
       "      <td>233</td>\n",
       "      <td>4</td>\n",
       "      <td>1</td>\n",
       "      <td>1.0</td>\n",
       "      <td>1.0</td>\n",
       "    </tr>\n",
       "    <tr>\n",
       "      <th>4</th>\n",
       "      <td>50</td>\n",
       "      <td>5</td>\n",
       "      <td>1</td>\n",
       "      <td>0.0</td>\n",
       "      <td>0.0</td>\n",
       "    </tr>\n",
       "    <tr>\n",
       "      <th>6</th>\n",
       "      <td>227</td>\n",
       "      <td>7</td>\n",
       "      <td>1</td>\n",
       "      <td>1.0</td>\n",
       "      <td>1.0</td>\n",
       "    </tr>\n",
       "  </tbody>\n",
       "</table>\n",
       "</div>"
      ],
      "text/plain": [
       "   news  user  time  fake  fake_count\n",
       "0   240     1     1   1.0         1.0\n",
       "2   162     3     1   1.0         1.0\n",
       "3   233     4     1   1.0         1.0\n",
       "4    50     5     1   0.0         0.0\n",
       "6   227     7     1   1.0         1.0"
      ]
     },
     "execution_count": 10,
     "metadata": {},
     "output_type": "execute_result"
    }
   ],
   "source": [
    "# Import news user data\n",
    "news_user = pd.read_csv('fake-news-prediction-toulouse/data_competition/newsUser.txt', sep='\\t', header=None)\n",
    "news_user.columns = ['news', 'user', 'time']\n",
    "\n",
    "# Merge label to news user\n",
    "news_user_label = news_user.merge(label_train, left_on='news', right_on='news', how='left', copy=False)\n",
    "news_user_label = news_user_label[~news_user_label.fake.isnull()] # not NA in column fake (have label)\n",
    "news_user_label['fake_count'] = news_user_label['fake']*news_user_label['time'] # fake scaled by the times of posting\n",
    "news_user_label.head()"
   ]
  },
  {
   "cell_type": "code",
   "execution_count": 11,
   "metadata": {},
   "outputs": [
    {
     "data": {
      "text/html": [
       "<div>\n",
       "<style scoped>\n",
       "    .dataframe tbody tr th:only-of-type {\n",
       "        vertical-align: middle;\n",
       "    }\n",
       "\n",
       "    .dataframe tbody tr th {\n",
       "        vertical-align: top;\n",
       "    }\n",
       "\n",
       "    .dataframe thead th {\n",
       "        text-align: right;\n",
       "    }\n",
       "</style>\n",
       "<table border=\"1\" class=\"dataframe\">\n",
       "  <thead>\n",
       "    <tr style=\"text-align: right;\">\n",
       "      <th></th>\n",
       "      <th>news_count</th>\n",
       "      <th>fake_count</th>\n",
       "      <th>fake_percent</th>\n",
       "    </tr>\n",
       "    <tr>\n",
       "      <th>user</th>\n",
       "      <th></th>\n",
       "      <th></th>\n",
       "      <th></th>\n",
       "    </tr>\n",
       "  </thead>\n",
       "  <tbody>\n",
       "    <tr>\n",
       "      <th>19924</th>\n",
       "      <td>67</td>\n",
       "      <td>67.0</td>\n",
       "      <td>1.0</td>\n",
       "    </tr>\n",
       "    <tr>\n",
       "      <th>13973</th>\n",
       "      <td>45</td>\n",
       "      <td>45.0</td>\n",
       "      <td>1.0</td>\n",
       "    </tr>\n",
       "    <tr>\n",
       "      <th>8040</th>\n",
       "      <td>41</td>\n",
       "      <td>41.0</td>\n",
       "      <td>1.0</td>\n",
       "    </tr>\n",
       "    <tr>\n",
       "      <th>9584</th>\n",
       "      <td>40</td>\n",
       "      <td>40.0</td>\n",
       "      <td>1.0</td>\n",
       "    </tr>\n",
       "    <tr>\n",
       "      <th>4715</th>\n",
       "      <td>35</td>\n",
       "      <td>35.0</td>\n",
       "      <td>1.0</td>\n",
       "    </tr>\n",
       "  </tbody>\n",
       "</table>\n",
       "</div>"
      ],
      "text/plain": [
       "       news_count  fake_count  fake_percent\n",
       "user                                       \n",
       "19924          67        67.0           1.0\n",
       "13973          45        45.0           1.0\n",
       "8040           41        41.0           1.0\n",
       "9584           40        40.0           1.0\n",
       "4715           35        35.0           1.0"
      ]
     },
     "execution_count": 11,
     "metadata": {},
     "output_type": "execute_result"
    }
   ],
   "source": [
    "# Calculate percentage fake news posted by each user\n",
    "user_fake_percent = news_user_label.groupby('user').agg({'time':'sum', # for each user, calculate total posting\n",
    "                                                         'fake_count':'sum'}) # calculate total fake\n",
    "user_fake_percent.columns = ['news_count','fake_count']\n",
    "user_fake_percent['fake_percent'] = user_fake_percent['fake_count']/user_fake_percent['news_count'] # percentage of fake\n",
    "user_fake_percent.sort_values(['fake_percent','news_count'], ascending=False, inplace=True) # sort value\n",
    "user_fake_percent.head()"
   ]
  },
  {
   "cell_type": "code",
   "execution_count": 12,
   "metadata": {},
   "outputs": [
    {
     "name": "stderr",
     "output_type": "stream",
     "text": [
      "C:\\Users\\truong_ph\\AppData\\Local\\Continuum\\anaconda3\\lib\\site-packages\\scipy\\stats\\stats.py:1713: FutureWarning: Using a non-tuple sequence for multidimensional indexing is deprecated; use `arr[tuple(seq)]` instead of `arr[seq]`. In the future this will be interpreted as an array index, `arr[np.array(seq)]`, which will result either in an error or a different result.\n",
      "  return np.add.reduce(sorted[indexer] * weights, axis=axis) / sumval\n"
     ]
    },
    {
     "data": {
      "image/png": "[encoded data removed]",
      "text/plain": [
       "<Figure size 432x288 with 1 Axes>"
      ]
     },
     "metadata": {
      "needs_background": "light"
     },
     "output_type": "display_data"
    }
   ],
   "source": [
    "sns.distplot(user_fake_percent['fake_percent'], kde=False);"
   ]
  },
  {
   "cell_type": "code",
   "execution_count": 13,
   "metadata": {},
   "outputs": [
    {
     "data": {
      "text/plain": [
       "Int64Index([19924, 13973,  8040,  9584,  4715,  8170,  8378, 12526, 18542,\n",
       "            19590,\n",
       "            ...\n",
       "            23852, 23853, 23854, 23855, 23857, 23858, 23860, 23861, 23864,\n",
       "            23865],\n",
       "           dtype='int64', name='user', length=13040)"
      ]
     },
     "execution_count": 13,
     "metadata": {},
     "output_type": "execute_result"
    }
   ],
   "source": [
    "# Define fake_source, which are users who always post fake news\n",
    "fake_source = user_fake_percent[user_fake_percent['fake_percent']==1].index\n",
    "fake_source"
   ]
  },
  {
   "cell_type": "raw",
   "metadata": {},
   "source": [
    "start = datetime.now()\n",
    "\n",
    "degree= nx.degree_centrality(g)\n",
    "closeness = nx.closeness_centrality(g)\n",
    "eigenvector = nx.eigenvector_centrality_numpy(g)\n",
    "katz = nx.katz_centrality_numpy(g)\n",
    "betweenness = nx.betweenness_centrality(g)\n",
    "\n",
    "end = datetime.now() \n",
    "str(end-start)"
   ]
  },
  {
   "cell_type": "raw",
   "metadata": {},
   "source": [
    "# Save DBSCAN\n",
    "with open('Temporary_Files/degree.pickle', 'wb') as handle:\n",
    "    pickle.dump(degree, handle, protocol=pickle.HIGHEST_PROTOCOL)\n",
    "\n",
    "with open('Temporary_Files/closeness.pickle', 'wb') as handle:\n",
    "    pickle.dump(closeness, handle, protocol=pickle.HIGHEST_PROTOCOL)\n",
    "\n",
    "with open('Temporary_Files/eigenvector.pickle', 'wb') as handle:\n",
    "    pickle.dump(eigenvector, handle, protocol=pickle.HIGHEST_PROTOCOL)\n",
    "\n",
    "with open('Temporary_Files/katz.pickle', 'wb') as handle:\n",
    "    pickle.dump(katz, handle, protocol=pickle.HIGHEST_PROTOCOL)\n",
    "\n",
    "with open('Temporary_Files/betweenness.pickle', 'wb') as handle:\n",
    "    pickle.dump(betweenness, handle, protocol=pickle.HIGHEST_PROTOCOL)"
   ]
  },
  {
   "cell_type": "code",
   "execution_count": 14,
   "metadata": {},
   "outputs": [],
   "source": [
    "# Load DBSCAN\n",
    "with open('Temporary_Files/degree.pickle', 'rb') as handle:\n",
    "    degree = pickle.load(handle)\n",
    "    \n",
    "with open('Temporary_Files/closeness.pickle', 'rb') as handle:\n",
    "    closeness = pickle.load(handle)\n",
    "\n",
    "with open('Temporary_Files/eigenvector.pickle', 'rb') as handle:\n",
    "    eigenvector = pickle.load(handle)\n",
    "\n",
    "with open('Temporary_Files/katz.pickle', 'rb') as handle:\n",
    "    katz = pickle.load(handle)\n",
    "\n",
    "with open('Temporary_Files/betweenness.pickle', 'rb') as handle:\n",
    "    betweenness = pickle.load(handle)    "
   ]
  },
  {
   "cell_type": "code",
   "execution_count": 15,
   "metadata": {},
   "outputs": [
    {
     "data": {
      "text/html": [
       "<div>\n",
       "<style scoped>\n",
       "    .dataframe tbody tr th:only-of-type {\n",
       "        vertical-align: middle;\n",
       "    }\n",
       "\n",
       "    .dataframe tbody tr th {\n",
       "        vertical-align: top;\n",
       "    }\n",
       "\n",
       "    .dataframe thead th {\n",
       "        text-align: right;\n",
       "    }\n",
       "</style>\n",
       "<table border=\"1\" class=\"dataframe\">\n",
       "  <thead>\n",
       "    <tr style=\"text-align: right;\">\n",
       "      <th></th>\n",
       "      <th>degree</th>\n",
       "      <th>closeness</th>\n",
       "      <th>eigenvector</th>\n",
       "      <th>katz</th>\n",
       "      <th>betweenness</th>\n",
       "    </tr>\n",
       "    <tr>\n",
       "      <th>user</th>\n",
       "      <th></th>\n",
       "      <th></th>\n",
       "      <th></th>\n",
       "      <th></th>\n",
       "      <th></th>\n",
       "    </tr>\n",
       "  </thead>\n",
       "  <tbody>\n",
       "    <tr>\n",
       "      <th>507</th>\n",
       "      <td>0.000461</td>\n",
       "      <td>0.313734</td>\n",
       "      <td>0.000146</td>\n",
       "      <td>0.006121</td>\n",
       "      <td>0.000242</td>\n",
       "    </tr>\n",
       "    <tr>\n",
       "      <th>1</th>\n",
       "      <td>0.000335</td>\n",
       "      <td>0.290649</td>\n",
       "      <td>0.000788</td>\n",
       "      <td>-0.002283</td>\n",
       "      <td>0.000003</td>\n",
       "    </tr>\n",
       "    <tr>\n",
       "      <th>1589</th>\n",
       "      <td>0.009261</td>\n",
       "      <td>0.339624</td>\n",
       "      <td>0.018251</td>\n",
       "      <td>-0.023112</td>\n",
       "      <td>0.000062</td>\n",
       "    </tr>\n",
       "    <tr>\n",
       "      <th>5307</th>\n",
       "      <td>0.000796</td>\n",
       "      <td>0.327333</td>\n",
       "      <td>0.002286</td>\n",
       "      <td>-0.001020</td>\n",
       "      <td>0.000022</td>\n",
       "    </tr>\n",
       "    <tr>\n",
       "      <th>11421</th>\n",
       "      <td>0.004903</td>\n",
       "      <td>0.341899</td>\n",
       "      <td>0.018435</td>\n",
       "      <td>-0.007095</td>\n",
       "      <td>0.000020</td>\n",
       "    </tr>\n",
       "  </tbody>\n",
       "</table>\n",
       "</div>"
      ],
      "text/plain": [
       "         degree  closeness  eigenvector      katz  betweenness\n",
       "user                                                          \n",
       "507    0.000461   0.313734     0.000146  0.006121     0.000242\n",
       "1      0.000335   0.290649     0.000788 -0.002283     0.000003\n",
       "1589   0.009261   0.339624     0.018251 -0.023112     0.000062\n",
       "5307   0.000796   0.327333     0.002286 -0.001020     0.000022\n",
       "11421  0.004903   0.341899     0.018435 -0.007095     0.000020"
      ]
     },
     "execution_count": 15,
     "metadata": {},
     "output_type": "execute_result"
    }
   ],
   "source": [
    "centrality = pd.concat([pd.Series(degree),\n",
    "                        pd.Series(closeness),\n",
    "                        pd.Series(eigenvector),\n",
    "                        pd.Series(katz),\n",
    "                        pd.Series(betweenness)],\n",
    "                      axis=1)\n",
    "\n",
    "centrality.columns = ['degree' ,'closeness', 'eigenvector', 'katz', 'betweenness']\n",
    "centrality.index = centrality.index.astype(int)\n",
    "centrality.index.name = 'user'\n",
    "centrality.head()"
   ]
  },
  {
   "cell_type": "code",
   "execution_count": 16,
   "metadata": {},
   "outputs": [
    {
     "data": {
      "text/html": [
       "<div>\n",
       "<style scoped>\n",
       "    .dataframe tbody tr th:only-of-type {\n",
       "        vertical-align: middle;\n",
       "    }\n",
       "\n",
       "    .dataframe tbody tr th {\n",
       "        vertical-align: top;\n",
       "    }\n",
       "\n",
       "    .dataframe thead th {\n",
       "        text-align: right;\n",
       "    }\n",
       "</style>\n",
       "<table border=\"1\" class=\"dataframe\">\n",
       "  <thead>\n",
       "    <tr style=\"text-align: right;\">\n",
       "      <th></th>\n",
       "      <th>news_count</th>\n",
       "      <th>fake_count</th>\n",
       "      <th>fake_percent</th>\n",
       "      <th>degree</th>\n",
       "      <th>closeness</th>\n",
       "      <th>eigenvector</th>\n",
       "      <th>katz</th>\n",
       "      <th>betweenness</th>\n",
       "    </tr>\n",
       "    <tr>\n",
       "      <th>user</th>\n",
       "      <th></th>\n",
       "      <th></th>\n",
       "      <th></th>\n",
       "      <th></th>\n",
       "      <th></th>\n",
       "      <th></th>\n",
       "      <th></th>\n",
       "      <th></th>\n",
       "    </tr>\n",
       "  </thead>\n",
       "  <tbody>\n",
       "    <tr>\n",
       "      <th>19924</th>\n",
       "      <td>67</td>\n",
       "      <td>67.0</td>\n",
       "      <td>1.0</td>\n",
       "      <td>0.002598</td>\n",
       "      <td>0.323971</td>\n",
       "      <td>0.000341</td>\n",
       "      <td>-0.007398</td>\n",
       "      <td>1.546011e-04</td>\n",
       "    </tr>\n",
       "    <tr>\n",
       "      <th>13973</th>\n",
       "      <td>45</td>\n",
       "      <td>45.0</td>\n",
       "      <td>1.0</td>\n",
       "      <td>0.000419</td>\n",
       "      <td>0.316620</td>\n",
       "      <td>0.001459</td>\n",
       "      <td>0.002687</td>\n",
       "      <td>3.008375e-07</td>\n",
       "    </tr>\n",
       "    <tr>\n",
       "      <th>8040</th>\n",
       "      <td>41</td>\n",
       "      <td>41.0</td>\n",
       "      <td>1.0</td>\n",
       "      <td>0.002682</td>\n",
       "      <td>0.373787</td>\n",
       "      <td>0.001328</td>\n",
       "      <td>0.004691</td>\n",
       "      <td>1.939276e-04</td>\n",
       "    </tr>\n",
       "    <tr>\n",
       "      <th>9584</th>\n",
       "      <td>40</td>\n",
       "      <td>40.0</td>\n",
       "      <td>1.0</td>\n",
       "      <td>0.003185</td>\n",
       "      <td>0.380828</td>\n",
       "      <td>0.010665</td>\n",
       "      <td>0.021683</td>\n",
       "      <td>1.048820e-04</td>\n",
       "    </tr>\n",
       "    <tr>\n",
       "      <th>4715</th>\n",
       "      <td>35</td>\n",
       "      <td>35.0</td>\n",
       "      <td>1.0</td>\n",
       "      <td>0.000126</td>\n",
       "      <td>0.326341</td>\n",
       "      <td>0.000212</td>\n",
       "      <td>-0.000878</td>\n",
       "      <td>2.024279e-05</td>\n",
       "    </tr>\n",
       "  </tbody>\n",
       "</table>\n",
       "</div>"
      ],
      "text/plain": [
       "       news_count  fake_count  fake_percent    degree  closeness  eigenvector  \\\n",
       "user                                                                            \n",
       "19924          67        67.0           1.0  0.002598   0.323971     0.000341   \n",
       "13973          45        45.0           1.0  0.000419   0.316620     0.001459   \n",
       "8040           41        41.0           1.0  0.002682   0.373787     0.001328   \n",
       "9584           40        40.0           1.0  0.003185   0.380828     0.010665   \n",
       "4715           35        35.0           1.0  0.000126   0.326341     0.000212   \n",
       "\n",
       "           katz   betweenness  \n",
       "user                           \n",
       "19924 -0.007398  1.546011e-04  \n",
       "13973  0.002687  3.008375e-07  \n",
       "8040   0.004691  1.939276e-04  \n",
       "9584   0.021683  1.048820e-04  \n",
       "4715  -0.000878  2.024279e-05  "
      ]
     },
     "execution_count": 16,
     "metadata": {},
     "output_type": "execute_result"
    }
   ],
   "source": [
    "user_profile = user_fake_percent.merge(centrality, left_index=True, right_index=True, how='left')\n",
    "user_profile.head()"
   ]
  },
  {
   "cell_type": "code",
   "execution_count": 18,
   "metadata": {},
   "outputs": [
    {
     "data": {
      "image/png": "[encoded data removed]",
      "text/plain": [
       "<Figure size 900x360 with 10 Axes>"
      ]
     },
     "metadata": {
      "needs_background": "light"
     },
     "output_type": "display_data"
    }
   ],
   "source": [
    "sns.pairplot(user_profile,\n",
    "             x_vars = ['degree', 'closeness', 'eigenvector', 'katz', 'betweenness'],\n",
    "             y_vars = ['news_count', 'fake_percent']);\n",
    "# There seem no relationship between fake_percent|news_count and the node centrality measures"
   ]
  },
  {
   "cell_type": "code",
   "execution_count": 179,
   "metadata": {
    "scrolled": true
   },
   "outputs": [
    {
     "data": {
      "text/html": [
       "<div>\n",
       "<style scoped>\n",
       "    .dataframe tbody tr th:only-of-type {\n",
       "        vertical-align: middle;\n",
       "    }\n",
       "\n",
       "    .dataframe tbody tr th {\n",
       "        vertical-align: top;\n",
       "    }\n",
       "\n",
       "    .dataframe thead th {\n",
       "        text-align: right;\n",
       "    }\n",
       "</style>\n",
       "<table border=\"1\" class=\"dataframe\">\n",
       "  <thead>\n",
       "    <tr style=\"text-align: right;\">\n",
       "      <th></th>\n",
       "      <th>fake_score</th>\n",
       "      <th>fake</th>\n",
       "    </tr>\n",
       "    <tr>\n",
       "      <th>news</th>\n",
       "      <th></th>\n",
       "      <th></th>\n",
       "    </tr>\n",
       "  </thead>\n",
       "  <tbody>\n",
       "    <tr>\n",
       "      <th>1</th>\n",
       "      <td>0.115000</td>\n",
       "      <td>0</td>\n",
       "    </tr>\n",
       "    <tr>\n",
       "      <th>3</th>\n",
       "      <td>0.172075</td>\n",
       "      <td>0</td>\n",
       "    </tr>\n",
       "    <tr>\n",
       "      <th>5</th>\n",
       "      <td>0.080952</td>\n",
       "      <td>0</td>\n",
       "    </tr>\n",
       "    <tr>\n",
       "      <th>6</th>\n",
       "      <td>0.179170</td>\n",
       "      <td>0</td>\n",
       "    </tr>\n",
       "    <tr>\n",
       "      <th>8</th>\n",
       "      <td>0.100639</td>\n",
       "      <td>0</td>\n",
       "    </tr>\n",
       "  </tbody>\n",
       "</table>\n",
       "</div>"
      ],
      "text/plain": [
       "      fake_score  fake\n",
       "news                  \n",
       "1       0.115000     0\n",
       "3       0.172075     0\n",
       "5       0.080952     0\n",
       "6       0.179170     0\n",
       "8       0.100639     0"
      ]
     },
     "execution_count": 179,
     "metadata": {},
     "output_type": "execute_result"
    }
   ],
   "source": [
    "train_pred = label_train \\\n",
    "    .merge(news_user, left_on='news', right_on='news', how='left') \\\n",
    "    .merge(user_profile[['fake_percent']], left_on='user', right_index=True, how='left') \\\n",
    "    .groupby('news').agg({'fake_percent':np.mean}) \\\n",
    "    .rename(columns={'fake_percent':'fake_score'}) \\\n",
    "    .merge(label_train, left_index=True, right_on='news', how='left') \\\n",
    "    .set_index('news')\n",
    "train_pred.head()"
   ]
  },
  {
   "cell_type": "code",
   "execution_count": 178,
   "metadata": {},
   "outputs": [
    {
     "data": {
      "text/html": [
       "<div>\n",
       "<style scoped>\n",
       "    .dataframe tbody tr th:only-of-type {\n",
       "        vertical-align: middle;\n",
       "    }\n",
       "\n",
       "    .dataframe tbody tr th {\n",
       "        vertical-align: top;\n",
       "    }\n",
       "\n",
       "    .dataframe thead th {\n",
       "        text-align: right;\n",
       "    }\n",
       "</style>\n",
       "<table border=\"1\" class=\"dataframe\">\n",
       "  <thead>\n",
       "    <tr style=\"text-align: right;\">\n",
       "      <th></th>\n",
       "      <th>fake_score</th>\n",
       "      <th>fake</th>\n",
       "    </tr>\n",
       "    <tr>\n",
       "      <th>news</th>\n",
       "      <th></th>\n",
       "      <th></th>\n",
       "    </tr>\n",
       "  </thead>\n",
       "  <tbody>\n",
       "    <tr>\n",
       "      <th>9</th>\n",
       "      <td>0.100639</td>\n",
       "      <td>0</td>\n",
       "    </tr>\n",
       "    <tr>\n",
       "      <th>10</th>\n",
       "      <td>0.125000</td>\n",
       "      <td>0</td>\n",
       "    </tr>\n",
       "    <tr>\n",
       "      <th>11</th>\n",
       "      <td>0.202590</td>\n",
       "      <td>0</td>\n",
       "    </tr>\n",
       "    <tr>\n",
       "      <th>13</th>\n",
       "      <td>0.477073</td>\n",
       "      <td>0</td>\n",
       "    </tr>\n",
       "    <tr>\n",
       "      <th>38</th>\n",
       "      <td>0.666667</td>\n",
       "      <td>0</td>\n",
       "    </tr>\n",
       "  </tbody>\n",
       "</table>\n",
       "</div>"
      ],
      "text/plain": [
       "      fake_score  fake\n",
       "news                  \n",
       "9       0.100639     0\n",
       "10      0.125000     0\n",
       "11      0.202590     0\n",
       "13      0.477073     0\n",
       "38      0.666667     0"
      ]
     },
     "execution_count": 178,
     "metadata": {},
     "output_type": "execute_result"
    }
   ],
   "source": [
    "test_pred = label_test \\\n",
    "    .merge(news_user, left_on='news', right_on='news', how='left') \\\n",
    "    .merge(user_profile[['fake_percent']], left_on='user', right_index=True, how='left') \\\n",
    "    .groupby('news').agg({'fake_percent':np.mean}) \\\n",
    "    .rename(columns={'fake_percent':'fake_score'}) \\\n",
    "    .merge(label_test, left_index=True, right_on='news', how='left') \\\n",
    "    .set_index('news')\n",
    "test_pred.head()"
   ]
  },
  {
   "cell_type": "code",
   "execution_count": 182,
   "metadata": {},
   "outputs": [
    {
     "name": "stderr",
     "output_type": "stream",
     "text": [
      "C:\\Users\\truong_ph\\AppData\\Local\\Continuum\\anaconda3\\lib\\site-packages\\sklearn\\metrics\\classification.py:1135: UndefinedMetricWarning: F-score is ill-defined and being set to 0.0 due to no predicted samples.\n",
      "  'precision', 'predicted', average, warn_for)\n",
      "C:\\Users\\truong_ph\\AppData\\Local\\Continuum\\anaconda3\\lib\\site-packages\\sklearn\\metrics\\classification.py:1135: UndefinedMetricWarning: F-score is ill-defined and being set to 0.0 due to no predicted samples.\n",
      "  'precision', 'predicted', average, warn_for)\n"
     ]
    },
    {
     "data": {
      "text/html": [
       "<div>\n",
       "<style scoped>\n",
       "    .dataframe tbody tr th:only-of-type {\n",
       "        vertical-align: middle;\n",
       "    }\n",
       "\n",
       "    .dataframe tbody tr th {\n",
       "        vertical-align: top;\n",
       "    }\n",
       "\n",
       "    .dataframe thead th {\n",
       "        text-align: right;\n",
       "    }\n",
       "</style>\n",
       "<table border=\"1\" class=\"dataframe\">\n",
       "  <thead>\n",
       "    <tr style=\"text-align: right;\">\n",
       "      <th></th>\n",
       "      <th>f_measure_train</th>\n",
       "      <th>f_measure_test</th>\n",
       "    </tr>\n",
       "    <tr>\n",
       "      <th>threshold</th>\n",
       "      <th></th>\n",
       "      <th></th>\n",
       "    </tr>\n",
       "  </thead>\n",
       "  <tbody>\n",
       "    <tr>\n",
       "      <th>0.00</th>\n",
       "      <td>0.703704</td>\n",
       "      <td>0.689655</td>\n",
       "    </tr>\n",
       "    <tr>\n",
       "      <th>0.01</th>\n",
       "      <td>0.734300</td>\n",
       "      <td>0.701754</td>\n",
       "    </tr>\n",
       "    <tr>\n",
       "      <th>0.02</th>\n",
       "      <td>0.763819</td>\n",
       "      <td>0.701754</td>\n",
       "    </tr>\n",
       "    <tr>\n",
       "      <th>0.03</th>\n",
       "      <td>0.783505</td>\n",
       "      <td>0.727273</td>\n",
       "    </tr>\n",
       "    <tr>\n",
       "      <th>0.04</th>\n",
       "      <td>0.804233</td>\n",
       "      <td>0.740741</td>\n",
       "    </tr>\n",
       "  </tbody>\n",
       "</table>\n",
       "</div>"
      ],
      "text/plain": [
       "           f_measure_train  f_measure_test\n",
       "threshold                                 \n",
       "0.00              0.703704        0.689655\n",
       "0.01              0.734300        0.701754\n",
       "0.02              0.763819        0.701754\n",
       "0.03              0.783505        0.727273\n",
       "0.04              0.804233        0.740741"
      ]
     },
     "execution_count": 182,
     "metadata": {},
     "output_type": "execute_result"
    }
   ],
   "source": [
    "threshold = []\n",
    "f_measure_train = []\n",
    "f_measure_test = []\n",
    "\n",
    "for threshold_i in np.linspace(0, 1, 101):\n",
    "\n",
    "    f_measure_train_i = f1_score(y_true=train_pred['fake'],\n",
    "                                 y_pred=train_pred.apply(lambda x: 1 if x.fake_score>threshold_i else 0,axis=1))\n",
    "    \n",
    "    f_measure_test_i = f1_score(y_true=test_pred['fake'],\n",
    "                                y_pred=test_pred.apply(lambda x: 1 if x.fake_score>threshold_i else 0,axis=1))\n",
    "    \n",
    "    f_measure_train.append(f_measure_train_i)\n",
    "    f_measure_test.append(f_measure_test_i)\n",
    "    threshold.append(threshold_i)\n",
    "    \n",
    "f_measure = pd.DataFrame([threshold, f_measure_train, f_measure_test]).transpose()\n",
    "f_measure.columns = ['threshold' , 'f_measure_train', 'f_measure_test']\n",
    "f_measure.set_index('threshold', inplace=True)\n",
    "f_measure.head()"
   ]
  },
  {
   "cell_type": "code",
   "execution_count": 183,
   "metadata": {},
   "outputs": [
    {
     "data": {
      "image/png": "[encoded data removed]",
      "text/plain": [
       "<Figure size 432x288 with 1 Axes>"
      ]
     },
     "metadata": {
      "needs_background": "light"
     },
     "output_type": "display_data"
    }
   ],
   "source": [
    "sns.lineplot(data=f_measure)\n",
    "plt.axvline(x=0.7, color='black', linestyle=':');\n",
    "# choose threshold 0.7 "
   ]
  },
  {
   "cell_type": "markdown",
   "metadata": {},
   "source": [
    "### For submission"
   ]
  },
  {
   "cell_type": "code",
   "execution_count": 192,
   "metadata": {},
   "outputs": [
    {
     "data": {
      "text/html": [
       "<div>\n",
       "<style scoped>\n",
       "    .dataframe tbody tr th:only-of-type {\n",
       "        vertical-align: middle;\n",
       "    }\n",
       "\n",
       "    .dataframe tbody tr th {\n",
       "        vertical-align: top;\n",
       "    }\n",
       "\n",
       "    .dataframe thead th {\n",
       "        text-align: right;\n",
       "    }\n",
       "</style>\n",
       "<table border=\"1\" class=\"dataframe\">\n",
       "  <thead>\n",
       "    <tr style=\"text-align: right;\">\n",
       "      <th></th>\n",
       "      <th>fake_score</th>\n",
       "      <th>fake_pred</th>\n",
       "    </tr>\n",
       "    <tr>\n",
       "      <th>news</th>\n",
       "      <th></th>\n",
       "      <th></th>\n",
       "    </tr>\n",
       "  </thead>\n",
       "  <tbody>\n",
       "    <tr>\n",
       "      <th>2</th>\n",
       "      <td>0.246488</td>\n",
       "      <td>0</td>\n",
       "    </tr>\n",
       "    <tr>\n",
       "      <th>4</th>\n",
       "      <td>0.303571</td>\n",
       "      <td>0</td>\n",
       "    </tr>\n",
       "    <tr>\n",
       "      <th>7</th>\n",
       "      <td>0.252778</td>\n",
       "      <td>0</td>\n",
       "    </tr>\n",
       "    <tr>\n",
       "      <th>16</th>\n",
       "      <td>0.032407</td>\n",
       "      <td>0</td>\n",
       "    </tr>\n",
       "    <tr>\n",
       "      <th>17</th>\n",
       "      <td>0.135556</td>\n",
       "      <td>0</td>\n",
       "    </tr>\n",
       "  </tbody>\n",
       "</table>\n",
       "</div>"
      ],
      "text/plain": [
       "      fake_score  fake_pred\n",
       "news                       \n",
       "2       0.246488          0\n",
       "4       0.303571          0\n",
       "7       0.252778          0\n",
       "16      0.032407          0\n",
       "17      0.135556          0"
      ]
     },
     "execution_count": 192,
     "metadata": {},
     "output_type": "execute_result"
    }
   ],
   "source": [
    "# Merge label to news user\n",
    "news_user_label = news_user.merge(label, left_on='news', right_on='news', how='left', copy=False)\n",
    "news_user_label = news_user_label[~news_user_label.fake.isnull()] # not NA in column fake (have label)\n",
    "news_user_label['fake_count'] = news_user_label['fake']*news_user_label['time'] # fake scaled by the times of posting\n",
    "\n",
    "# Calculate percentage fake news posted by each user\n",
    "user_fake_percent = news_user_label.groupby('user').agg({'time':'sum', # for each user, calculate total posting\n",
    "                                                         'fake_count':'sum'}) # calculate total fake\n",
    "user_fake_percent.columns = ['news_count','fake_count']\n",
    "user_fake_percent['fake_percent'] = user_fake_percent['fake_count']/user_fake_percent['news_count'] # percentage of fake\n",
    "user_fake_percent.sort_values(['fake_percent','news_count'], ascending=False, inplace=True) # sort value\n",
    "\n",
    "# Calculate news fake score\n",
    "final_pred = news_user.merge(label, left_on='news', right_on='news', how='left', copy=False)\n",
    "final_pred = final_pred \\\n",
    "    .loc[final_pred.fake.isnull(),:] \\\n",
    "    .merge(user_fake_percent[['fake_percent']], left_on='user', right_index=True, how='left') \\\n",
    "    .groupby('news').agg({'fake_percent':np.mean}) \\\n",
    "    .rename(columns={'fake_percent':'fake_score'})\n",
    "\n",
    "# Calculate fake prediction\n",
    "final_pred['fake_pred'] = final_pred.apply(lambda x: 1 if x.fake_score>0.7 else 0,axis=1)\n",
    "\n",
    "final_pred.head()"
   ]
  },
  {
   "cell_type": "raw",
   "metadata": {},
   "source": [
    "# For Submission file format\n",
    "final_pred = final_pred[['fake_pred']]\n",
    "final_pred.reset_index(inplace=True)\n",
    "final_pred.columns = ['doc', 'class']\n",
    "final_pred.to_csv('Submission/Version2.csv', index=False)"
   ]
  }
 ],
 "metadata": {
  "kernelspec": {
   "display_name": "Python 3",
   "language": "python",
   "name": "python3"
  },
  "language_info": {
   "codemirror_mode": {
    "name": "ipython",
    "version": 3
   },
   "file_extension": ".py",
   "mimetype": "text/x-python",
   "name": "python",
   "nbconvert_exporter": "python",
   "pygments_lexer": "ipython3",
   "version": "3.7.2"
  }
 },
 "nbformat": 4,
 "nbformat_minor": 2
}
