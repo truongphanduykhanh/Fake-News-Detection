{
 "cells": [
  {
   "cell_type": "markdown",
   "metadata": {},
   "source": [
    "# Khanh Truong - Coline Merlen (Web Mining | March 2019)"
   ]
  },
  {
   "cell_type": "markdown",
   "metadata": {},
   "source": [
    "### ========================================================================================="
   ]
  },
  {
   "cell_type": "markdown",
   "metadata": {},
   "source": [
    "### README:\n",
    "    In order to better follow this notebook:\n",
    "   1. It's *necessary* to read carefully the **Headers** (Markdown cells), **Output** (tables and graphs) and beginning **Comments** of each cell.\n",
    "   2. It's *NOT necessary* to read every line of code and its comment.\n",
    "    "
   ]
  },
  {
   "cell_type": "markdown",
   "metadata": {},
   "source": [
    "### ========================================================================================="
   ]
  },
  {
   "cell_type": "markdown",
   "metadata": {},
   "source": [
    "# Graph Approach"
   ]
  },
  {
   "cell_type": "markdown",
   "metadata": {},
   "source": [
    "\n",
    "\n",
    "### Assumption: Fake news is more likely to be posted by unreliable users.\n",
    "### Steps:\n",
    "    1. For each user, calculate unreliable score.\n",
    "        - Unreliable score of a user is based on two metrics:\n",
    "            + Percenatge of fake news that the user posts - fake_percent\n",
    "            (A user is more unreliable if the user posts many fake news.)\n",
    "            + Average percenatge of fake news that the followees of that user posts - followee_fake_percent\n",
    "            (A user is more unreliable if the user's followees post many fake news.)\n",
    "        - Unreliable score of a user = p*fake_percent + (1-p)*followee_fake_percent\n",
    "        \n",
    "    2. For each news, calculate the unreliable score.\n",
    "        - Unreliable score of news = Average unreliable score of every user posts the news\n",
    "        - Given a threshold, news will be considered as fake if unreliable score of the news is greater than the threshold.\n",
    "    \n",
    "    3. Choose the optimal threshold of news fake score which maximizes F-measure.\n",
    "        (split data into training and testing sets to avoid overfitting issue when choosing threshold)"
   ]
  },
  {
   "cell_type": "markdown",
   "metadata": {},
   "source": [
    "## Import library"
   ]
  },
  {
   "cell_type": "code",
   "execution_count": 102,
   "metadata": {},
   "outputs": [],
   "source": [
    "import numpy as np\n",
    "import pandas as pd\n",
    "\n",
    "%matplotlib inline\n",
    "import matplotlib.pyplot as plt\n",
    "import seaborn as sns\n",
    "\n",
    "import networkx as nx\n",
    "from networkx.algorithms.community.modularity_max import greedy_modularity_communities\n",
    "\n",
    "from scipy import stats\n",
    "from sklearn.model_selection import train_test_split\n",
    "from sklearn.metrics import f1_score\n",
    "\n",
    "import os\n",
    "from datetime import datetime\n",
    "import pickle\n",
    "\n",
    "import warnings\n",
    "warnings.filterwarnings(action='once')"
   ]
  },
  {
   "cell_type": "markdown",
   "metadata": {},
   "source": [
    "## Import data"
   ]
  },
  {
   "cell_type": "code",
   "execution_count": 103,
   "metadata": {},
   "outputs": [
    {
     "name": "stdout",
     "output_type": "stream",
     "text": [
      "Number of nodes: 23865\n",
      "Number of edges: 408824\n",
      "Size of 5 largest connected components: [23618, 6, 6, 4, 4]\n"
     ]
    },
    {
     "data": {
      "image/png": "[encoded data removed]",
      "text/plain": [
       "<Figure size 432x288 with 1 Axes>"
      ]
     },
     "metadata": {
      "needs_background": "light"
     },
     "output_type": "display_data"
    }
   ],
   "source": [
    "# Import graph data\n",
    "g = nx.read_adjlist('fake-news-prediction-toulouse/data_competition/UserUser.txt') # graph\n",
    "\n",
    "print('Number of nodes: {}'.format(len(g.node)))\n",
    "print('Number of edges: {}'.format(len(g.edges)))\n",
    "\n",
    "deg = nx.degree(g) # calculate degree of nodes in the graph\n",
    "df = pd.Series([y for (x,y) in deg])\n",
    "sns.distplot(df, bins=20, kde=False, fit=stats.powerlaw);\n",
    "\n",
    "cc = [len(c) for c in sorted(nx.connected_components(g), key=len, reverse=True)] # size of connected components\n",
    "print('Size of 5 largest connected components: {}'.format(cc[0:5]))\n",
    "largest_cc = max(nx.connected_component_subgraphs(g), key=len) # extract the largest connected component"
   ]
  },
  {
   "cell_type": "code",
   "execution_count": 104,
   "metadata": {},
   "outputs": [
    {
     "name": "stdout",
     "output_type": "stream",
     "text": [
      "% fake in whole set: 0.5025906735751295\n",
      "% fake in train set: 0.4935064935064935\n"
     ]
    },
    {
     "data": {
      "text/html": [
       "<div>\n",
       "<style scoped>\n",
       "    .dataframe tbody tr th:only-of-type {\n",
       "        vertical-align: middle;\n",
       "    }\n",
       "\n",
       "    .dataframe tbody tr th {\n",
       "        vertical-align: top;\n",
       "    }\n",
       "\n",
       "    .dataframe thead th {\n",
       "        text-align: right;\n",
       "    }\n",
       "</style>\n",
       "<table border=\"1\" class=\"dataframe\">\n",
       "  <thead>\n",
       "    <tr style=\"text-align: right;\">\n",
       "      <th></th>\n",
       "      <th>news</th>\n",
       "      <th>fake</th>\n",
       "    </tr>\n",
       "  </thead>\n",
       "  <tbody>\n",
       "    <tr>\n",
       "      <th>97</th>\n",
       "      <td>122</td>\n",
       "      <td>1</td>\n",
       "    </tr>\n",
       "    <tr>\n",
       "      <th>149</th>\n",
       "      <td>188</td>\n",
       "      <td>1</td>\n",
       "    </tr>\n",
       "    <tr>\n",
       "      <th>39</th>\n",
       "      <td>51</td>\n",
       "      <td>0</td>\n",
       "    </tr>\n",
       "    <tr>\n",
       "      <th>25</th>\n",
       "      <td>33</td>\n",
       "      <td>0</td>\n",
       "    </tr>\n",
       "    <tr>\n",
       "      <th>130</th>\n",
       "      <td>164</td>\n",
       "      <td>1</td>\n",
       "    </tr>\n",
       "  </tbody>\n",
       "</table>\n",
       "</div>"
      ],
      "text/plain": [
       "     news  fake\n",
       "97    122     1\n",
       "149   188     1\n",
       "39     51     0\n",
       "25     33     0\n",
       "130   164     1"
      ]
     },
     "execution_count": 104,
     "metadata": {},
     "output_type": "execute_result"
    }
   ],
   "source": [
    "# Import label data\n",
    "label = pd.read_csv('fake-news-prediction-toulouse/data_competition/labels_training.txt', sep=',')\n",
    "label.columns = ['news', 'fake'] # fake := 1 if the news is fake\n",
    "\n",
    "# Split into train and test sets\n",
    "label_train, label_test = train_test_split(label, test_size=0.2, random_state=1234)\n",
    "\n",
    "print('% fake in whole set: {}'.format(label.fake.mean()))\n",
    "print('% fake in train set: {}'.format(label_train.fake.mean()))\n",
    "\n",
    "label_train.head()\n",
    "# From now on, only label_train is used to train the model."
   ]
  },
  {
   "cell_type": "code",
   "execution_count": 105,
   "metadata": {},
   "outputs": [
    {
     "data": {
      "text/html": [
       "<div>\n",
       "<style scoped>\n",
       "    .dataframe tbody tr th:only-of-type {\n",
       "        vertical-align: middle;\n",
       "    }\n",
       "\n",
       "    .dataframe tbody tr th {\n",
       "        vertical-align: top;\n",
       "    }\n",
       "\n",
       "    .dataframe thead th {\n",
       "        text-align: right;\n",
       "    }\n",
       "</style>\n",
       "<table border=\"1\" class=\"dataframe\">\n",
       "  <thead>\n",
       "    <tr style=\"text-align: right;\">\n",
       "      <th></th>\n",
       "      <th>news</th>\n",
       "      <th>user</th>\n",
       "      <th>time</th>\n",
       "    </tr>\n",
       "  </thead>\n",
       "  <tbody>\n",
       "    <tr>\n",
       "      <th>0</th>\n",
       "      <td>240</td>\n",
       "      <td>1</td>\n",
       "      <td>1</td>\n",
       "    </tr>\n",
       "    <tr>\n",
       "      <th>1</th>\n",
       "      <td>124</td>\n",
       "      <td>2</td>\n",
       "      <td>1</td>\n",
       "    </tr>\n",
       "    <tr>\n",
       "      <th>2</th>\n",
       "      <td>162</td>\n",
       "      <td>3</td>\n",
       "      <td>1</td>\n",
       "    </tr>\n",
       "    <tr>\n",
       "      <th>3</th>\n",
       "      <td>233</td>\n",
       "      <td>4</td>\n",
       "      <td>1</td>\n",
       "    </tr>\n",
       "    <tr>\n",
       "      <th>4</th>\n",
       "      <td>50</td>\n",
       "      <td>5</td>\n",
       "      <td>1</td>\n",
       "    </tr>\n",
       "  </tbody>\n",
       "</table>\n",
       "</div>"
      ],
      "text/plain": [
       "   news  user  time\n",
       "0   240     1     1\n",
       "1   124     2     1\n",
       "2   162     3     1\n",
       "3   233     4     1\n",
       "4    50     5     1"
      ]
     },
     "execution_count": 105,
     "metadata": {},
     "output_type": "execute_result"
    }
   ],
   "source": [
    "# Import news user data\n",
    "news_user = pd.read_csv('fake-news-prediction-toulouse/data_competition/newsUser.txt', sep='\\t', header=None)\n",
    "news_user.columns = ['news', 'user', 'time']\n",
    "news_user.head()"
   ]
  },
  {
   "cell_type": "markdown",
   "metadata": {},
   "source": [
    "## Calculate fake percentage of user\n",
    "    \"A user is more unrelibale if he/she posts many fake news.\""
   ]
  },
  {
   "cell_type": "code",
   "execution_count": 106,
   "metadata": {},
   "outputs": [
    {
     "data": {
      "text/html": [
       "<div>\n",
       "<style scoped>\n",
       "    .dataframe tbody tr th:only-of-type {\n",
       "        vertical-align: middle;\n",
       "    }\n",
       "\n",
       "    .dataframe tbody tr th {\n",
       "        vertical-align: top;\n",
       "    }\n",
       "\n",
       "    .dataframe thead th {\n",
       "        text-align: right;\n",
       "    }\n",
       "</style>\n",
       "<table border=\"1\" class=\"dataframe\">\n",
       "  <thead>\n",
       "    <tr style=\"text-align: right;\">\n",
       "      <th></th>\n",
       "      <th>news</th>\n",
       "      <th>user</th>\n",
       "      <th>time</th>\n",
       "      <th>fake</th>\n",
       "      <th>fake_count</th>\n",
       "    </tr>\n",
       "  </thead>\n",
       "  <tbody>\n",
       "    <tr>\n",
       "      <th>0</th>\n",
       "      <td>240</td>\n",
       "      <td>1</td>\n",
       "      <td>1</td>\n",
       "      <td>1</td>\n",
       "      <td>1</td>\n",
       "    </tr>\n",
       "    <tr>\n",
       "      <th>2</th>\n",
       "      <td>162</td>\n",
       "      <td>3</td>\n",
       "      <td>1</td>\n",
       "      <td>1</td>\n",
       "      <td>1</td>\n",
       "    </tr>\n",
       "    <tr>\n",
       "      <th>3</th>\n",
       "      <td>233</td>\n",
       "      <td>4</td>\n",
       "      <td>1</td>\n",
       "      <td>1</td>\n",
       "      <td>1</td>\n",
       "    </tr>\n",
       "    <tr>\n",
       "      <th>4</th>\n",
       "      <td>50</td>\n",
       "      <td>5</td>\n",
       "      <td>1</td>\n",
       "      <td>0</td>\n",
       "      <td>0</td>\n",
       "    </tr>\n",
       "    <tr>\n",
       "      <th>6</th>\n",
       "      <td>227</td>\n",
       "      <td>7</td>\n",
       "      <td>1</td>\n",
       "      <td>1</td>\n",
       "      <td>1</td>\n",
       "    </tr>\n",
       "  </tbody>\n",
       "</table>\n",
       "</div>"
      ],
      "text/plain": [
       "   news  user  time  fake  fake_count\n",
       "0   240     1     1     1           1\n",
       "2   162     3     1     1           1\n",
       "3   233     4     1     1           1\n",
       "4    50     5     1     0           0\n",
       "6   227     7     1     1           1"
      ]
     },
     "execution_count": 106,
     "metadata": {},
     "output_type": "execute_result"
    }
   ],
   "source": [
    "# Merge label to news user\n",
    "news_user_label = news_user.merge(label_train, left_on='news', right_on='news', how='left', copy=False)\n",
    "news_user_label = news_user_label[~news_user_label.fake.isnull()] # not NA in column 'fake' (have label)\n",
    "news_user_label.fake = news_user_label.fake.astype(int) # remove decimal in column 'fake'\n",
    "news_user_label['fake_count'] = news_user_label['fake']*news_user_label['time'] # fake scaled by the times of posting\n",
    "news_user_label.head()"
   ]
  },
  {
   "cell_type": "code",
   "execution_count": 107,
   "metadata": {},
   "outputs": [
    {
     "data": {
      "text/html": [
       "<div>\n",
       "<style scoped>\n",
       "    .dataframe tbody tr th:only-of-type {\n",
       "        vertical-align: middle;\n",
       "    }\n",
       "\n",
       "    .dataframe tbody tr th {\n",
       "        vertical-align: top;\n",
       "    }\n",
       "\n",
       "    .dataframe thead th {\n",
       "        text-align: right;\n",
       "    }\n",
       "</style>\n",
       "<table border=\"1\" class=\"dataframe\">\n",
       "  <thead>\n",
       "    <tr style=\"text-align: right;\">\n",
       "      <th></th>\n",
       "      <th>news_count</th>\n",
       "      <th>fake_count</th>\n",
       "      <th>fake_percent</th>\n",
       "    </tr>\n",
       "    <tr>\n",
       "      <th>user</th>\n",
       "      <th></th>\n",
       "      <th></th>\n",
       "      <th></th>\n",
       "    </tr>\n",
       "  </thead>\n",
       "  <tbody>\n",
       "    <tr>\n",
       "      <th>19924</th>\n",
       "      <td>67</td>\n",
       "      <td>67</td>\n",
       "      <td>1.0</td>\n",
       "    </tr>\n",
       "    <tr>\n",
       "      <th>13973</th>\n",
       "      <td>45</td>\n",
       "      <td>45</td>\n",
       "      <td>1.0</td>\n",
       "    </tr>\n",
       "    <tr>\n",
       "      <th>8040</th>\n",
       "      <td>41</td>\n",
       "      <td>41</td>\n",
       "      <td>1.0</td>\n",
       "    </tr>\n",
       "    <tr>\n",
       "      <th>9584</th>\n",
       "      <td>40</td>\n",
       "      <td>40</td>\n",
       "      <td>1.0</td>\n",
       "    </tr>\n",
       "    <tr>\n",
       "      <th>4715</th>\n",
       "      <td>35</td>\n",
       "      <td>35</td>\n",
       "      <td>1.0</td>\n",
       "    </tr>\n",
       "  </tbody>\n",
       "</table>\n",
       "</div>"
      ],
      "text/plain": [
       "       news_count  fake_count  fake_percent\n",
       "user                                       \n",
       "19924          67          67           1.0\n",
       "13973          45          45           1.0\n",
       "8040           41          41           1.0\n",
       "9584           40          40           1.0\n",
       "4715           35          35           1.0"
      ]
     },
     "execution_count": 107,
     "metadata": {},
     "output_type": "execute_result"
    }
   ],
   "source": [
    "# Calculate percentage fake news posted by each user\n",
    "user_fake_percent = news_user_label.groupby('user').agg({'time':'sum', # for each user, calculate total posting\n",
    "                                                         'fake_count':'sum'}) # calculate total fake\n",
    "user_fake_percent.columns = ['news_count','fake_count']\n",
    "user_fake_percent['fake_percent'] = user_fake_percent['fake_count']/user_fake_percent['news_count'] # percentage of fake\n",
    "user_fake_percent.sort_values(['fake_percent','news_count'], ascending=False, inplace=True) # sort value\n",
    "user_fake_percent.head()"
   ]
  },
  {
   "cell_type": "code",
   "execution_count": 108,
   "metadata": {
    "scrolled": false
   },
   "outputs": [
    {
     "data": {
      "image/png": "[encoded data removed]",
      "text/plain": [
       "<Figure size 432x288 with 1 Axes>"
      ]
     },
     "metadata": {
      "needs_background": "light"
     },
     "output_type": "display_data"
    }
   ],
   "source": [
    "plt.rcParams['figure.figsize'] = [6, 4]\n",
    "ax = sns.distplot(user_fake_percent['fake_percent'], kde=False)\n",
    "ax.set(xlabel='fake_percent',\n",
    "       ylabel='# user',\n",
    "       title='Distribution fake news percentage of users');\n",
    "\n",
    "# Most of the users post only fake news (100% of fake news).\n",
    "# Some others don't post any fake news (0%).\n",
    "# Very few users are in the between."
   ]
  },
  {
   "cell_type": "markdown",
   "metadata": {},
   "source": [
    "## Calculate average fake percentage of user's followees\n",
    "    \"A user is more unreliable if he/she follows unreliable people.\""
   ]
  },
  {
   "cell_type": "code",
   "execution_count": 109,
   "metadata": {},
   "outputs": [
    {
     "data": {
      "text/html": [
       "<div>\n",
       "<style scoped>\n",
       "    .dataframe tbody tr th:only-of-type {\n",
       "        vertical-align: middle;\n",
       "    }\n",
       "\n",
       "    .dataframe tbody tr th {\n",
       "        vertical-align: top;\n",
       "    }\n",
       "\n",
       "    .dataframe thead th {\n",
       "        text-align: right;\n",
       "    }\n",
       "</style>\n",
       "<table border=\"1\" class=\"dataframe\">\n",
       "  <thead>\n",
       "    <tr style=\"text-align: right;\">\n",
       "      <th></th>\n",
       "      <th>user</th>\n",
       "      <th>user_followee</th>\n",
       "    </tr>\n",
       "  </thead>\n",
       "  <tbody>\n",
       "    <tr>\n",
       "      <th>0</th>\n",
       "      <td>1</td>\n",
       "      <td>1589</td>\n",
       "    </tr>\n",
       "    <tr>\n",
       "      <th>1</th>\n",
       "      <td>1</td>\n",
       "      <td>11421</td>\n",
       "    </tr>\n",
       "    <tr>\n",
       "      <th>2</th>\n",
       "      <td>1</td>\n",
       "      <td>13267</td>\n",
       "    </tr>\n",
       "    <tr>\n",
       "      <th>3</th>\n",
       "      <td>1</td>\n",
       "      <td>17196</td>\n",
       "    </tr>\n",
       "    <tr>\n",
       "      <th>4</th>\n",
       "      <td>1</td>\n",
       "      <td>22926</td>\n",
       "    </tr>\n",
       "  </tbody>\n",
       "</table>\n",
       "</div>"
      ],
      "text/plain": [
       "   user  user_followee\n",
       "0     1           1589\n",
       "1     1          11421\n",
       "2     1          13267\n",
       "3     1          17196\n",
       "4     1          22926"
      ]
     },
     "execution_count": 109,
     "metadata": {},
     "output_type": "execute_result"
    }
   ],
   "source": [
    "# Import user network data\n",
    "user_user = pd.read_csv('fake-news-prediction-toulouse/data_competition/UserUser.txt', sep='\\t', header=None)\n",
    "user_user.columns = ['user', 'user_followee']\n",
    "user_user = user_user.sort_values(['user','user_followee']).reset_index(drop=True)\n",
    "user_user.head()"
   ]
  },
  {
   "cell_type": "code",
   "execution_count": 110,
   "metadata": {},
   "outputs": [
    {
     "data": {
      "text/html": [
       "<div>\n",
       "<style scoped>\n",
       "    .dataframe tbody tr th:only-of-type {\n",
       "        vertical-align: middle;\n",
       "    }\n",
       "\n",
       "    .dataframe tbody tr th {\n",
       "        vertical-align: top;\n",
       "    }\n",
       "\n",
       "    .dataframe thead th {\n",
       "        text-align: right;\n",
       "    }\n",
       "</style>\n",
       "<table border=\"1\" class=\"dataframe\">\n",
       "  <thead>\n",
       "    <tr style=\"text-align: right;\">\n",
       "      <th></th>\n",
       "      <th>fake_percent</th>\n",
       "      <th>followee_fake_percent</th>\n",
       "    </tr>\n",
       "    <tr>\n",
       "      <th>user</th>\n",
       "      <th></th>\n",
       "      <th></th>\n",
       "    </tr>\n",
       "  </thead>\n",
       "  <tbody>\n",
       "    <tr>\n",
       "      <th>1</th>\n",
       "      <td>1.0</td>\n",
       "      <td>1.000000</td>\n",
       "    </tr>\n",
       "    <tr>\n",
       "      <th>3</th>\n",
       "      <td>1.0</td>\n",
       "      <td>0.882353</td>\n",
       "    </tr>\n",
       "    <tr>\n",
       "      <th>4</th>\n",
       "      <td>1.0</td>\n",
       "      <td>0.545455</td>\n",
       "    </tr>\n",
       "    <tr>\n",
       "      <th>5</th>\n",
       "      <td>0.0</td>\n",
       "      <td>0.806643</td>\n",
       "    </tr>\n",
       "    <tr>\n",
       "      <th>7</th>\n",
       "      <td>1.0</td>\n",
       "      <td>1.000000</td>\n",
       "    </tr>\n",
       "  </tbody>\n",
       "</table>\n",
       "</div>"
      ],
      "text/plain": [
       "      fake_percent  followee_fake_percent\n",
       "user                                     \n",
       "1              1.0               1.000000\n",
       "3              1.0               0.882353\n",
       "4              1.0               0.545455\n",
       "5              0.0               0.806643\n",
       "7              1.0               1.000000"
      ]
     },
     "execution_count": 110,
     "metadata": {},
     "output_type": "execute_result"
    },
    {
     "data": {
      "image/png": "[encoded data removed]",
      "text/plain": [
       "<Figure size 432x288 with 1 Axes>"
      ]
     },
     "metadata": {
      "needs_background": "light"
     },
     "output_type": "display_data"
    }
   ],
   "source": [
    "# Calculate average percentage of fake news posted by a user's followees\n",
    "followee_fake_percent = user_user \\\n",
    "    .merge(user_fake_percent[['fake_percent']], left_on='user_followee', right_index=True, how='left') \\\n",
    "    .groupby('user').agg({'fake_percent':np.mean})\n",
    "\n",
    "followee_fake_percent.columns = ['followee_fake_percent']\n",
    "followee_fake_percent = followee_fake_percent[~followee_fake_percent.followee_fake_percent.isna()] # remove \n",
    "\n",
    "followee_fake_percent = user_fake_percent[['fake_percent']] \\\n",
    "    .merge(followee_fake_percent, left_index=True, right_index=True, how='outer')\n",
    "\n",
    "\n",
    "sns.scatterplot(data=followee_fake_percent,\n",
    "               x='followee_fake_percent',\n",
    "               y='fake_percent');\n",
    "\n",
    "followee_fake_percent.head()"
   ]
  },
  {
   "cell_type": "code",
   "execution_count": 111,
   "metadata": {},
   "outputs": [
    {
     "data": {
      "text/html": [
       "<div>\n",
       "<style scoped>\n",
       "    .dataframe tbody tr th:only-of-type {\n",
       "        vertical-align: middle;\n",
       "    }\n",
       "\n",
       "    .dataframe tbody tr th {\n",
       "        vertical-align: top;\n",
       "    }\n",
       "\n",
       "    .dataframe thead th {\n",
       "        text-align: right;\n",
       "    }\n",
       "</style>\n",
       "<table border=\"1\" class=\"dataframe\">\n",
       "  <thead>\n",
       "    <tr style=\"text-align: right;\">\n",
       "      <th></th>\n",
       "      <th>fake_percent</th>\n",
       "      <th>followee_fake_percent</th>\n",
       "      <th>unreliable_score</th>\n",
       "    </tr>\n",
       "    <tr>\n",
       "      <th>user</th>\n",
       "      <th></th>\n",
       "      <th></th>\n",
       "      <th></th>\n",
       "    </tr>\n",
       "  </thead>\n",
       "  <tbody>\n",
       "    <tr>\n",
       "      <th>1</th>\n",
       "      <td>1.0</td>\n",
       "      <td>1.000000</td>\n",
       "      <td>1.000000</td>\n",
       "    </tr>\n",
       "    <tr>\n",
       "      <th>3</th>\n",
       "      <td>1.0</td>\n",
       "      <td>0.882353</td>\n",
       "      <td>0.941176</td>\n",
       "    </tr>\n",
       "    <tr>\n",
       "      <th>4</th>\n",
       "      <td>1.0</td>\n",
       "      <td>0.545455</td>\n",
       "      <td>0.772727</td>\n",
       "    </tr>\n",
       "    <tr>\n",
       "      <th>5</th>\n",
       "      <td>0.0</td>\n",
       "      <td>0.806643</td>\n",
       "      <td>0.403322</td>\n",
       "    </tr>\n",
       "    <tr>\n",
       "      <th>7</th>\n",
       "      <td>1.0</td>\n",
       "      <td>1.000000</td>\n",
       "      <td>1.000000</td>\n",
       "    </tr>\n",
       "  </tbody>\n",
       "</table>\n",
       "</div>"
      ],
      "text/plain": [
       "      fake_percent  followee_fake_percent  unreliable_score\n",
       "user                                                       \n",
       "1              1.0               1.000000          1.000000\n",
       "3              1.0               0.882353          0.941176\n",
       "4              1.0               0.545455          0.772727\n",
       "5              0.0               0.806643          0.403322\n",
       "7              1.0               1.000000          1.000000"
      ]
     },
     "execution_count": 111,
     "metadata": {},
     "output_type": "execute_result"
    }
   ],
   "source": [
    "# Assume 'unreliable score' of a user is determined 50% by his/her fake percent, and 50% by his/her friends' fake percent\n",
    "p = 0.5\n",
    "followee_fake_percent['unreliable_score'] = p*followee_fake_percent['fake_percent'] \\\n",
    "                                            + (1-p)*followee_fake_percent['followee_fake_percent']\n",
    "followee_fake_percent.head()"
   ]
  },
  {
   "cell_type": "raw",
   "metadata": {},
   "source": [
    "# Some users don't have 'fake_percent' but have 'followee_fake_percent'\n",
    "# Because all news that are posted by those users are not in lable_train, hence can't know percentage of fake news he/she post\n",
    "# => 'unreliable_score' := 'followee_fake_percent'\n",
    "followee_fake_percent['unreliable_score'].fillna(followee_fake_percent['followee_fake_percent'], inplace=True)\n",
    "\n",
    "# Vice versa, some users don't have 'followee_fake_percent' but have 'fake_percent'\n",
    "# Because all news that are posted by the users's followee are not in lable_train,\n",
    "# hence can't know percentage of fake news the followees post\n",
    "# => 'unreliable_score' := 'fake_percent'\n",
    "followee_fake_percent['unreliable_score'].fillna(followee_fake_percent['fake_percent'], inplace=True)"
   ]
  },
  {
   "cell_type": "markdown",
   "metadata": {},
   "source": [
    "## For each news, calculate average unreliable score of users post that news\n",
    "    \"News is more unreliable if it is posted by many unreliable users.\""
   ]
  },
  {
   "cell_type": "code",
   "execution_count": 112,
   "metadata": {},
   "outputs": [
    {
     "data": {
      "text/html": [
       "<div>\n",
       "<style scoped>\n",
       "    .dataframe tbody tr th:only-of-type {\n",
       "        vertical-align: middle;\n",
       "    }\n",
       "\n",
       "    .dataframe tbody tr th {\n",
       "        vertical-align: top;\n",
       "    }\n",
       "\n",
       "    .dataframe thead th {\n",
       "        text-align: right;\n",
       "    }\n",
       "</style>\n",
       "<table border=\"1\" class=\"dataframe\">\n",
       "  <thead>\n",
       "    <tr style=\"text-align: right;\">\n",
       "      <th></th>\n",
       "      <th>unreliable_score</th>\n",
       "      <th>fake</th>\n",
       "    </tr>\n",
       "    <tr>\n",
       "      <th>news</th>\n",
       "      <th></th>\n",
       "      <th></th>\n",
       "    </tr>\n",
       "  </thead>\n",
       "  <tbody>\n",
       "    <tr>\n",
       "      <th>1</th>\n",
       "      <td>0.444374</td>\n",
       "      <td>0</td>\n",
       "    </tr>\n",
       "    <tr>\n",
       "      <th>3</th>\n",
       "      <td>0.454698</td>\n",
       "      <td>0</td>\n",
       "    </tr>\n",
       "    <tr>\n",
       "      <th>5</th>\n",
       "      <td>0.381975</td>\n",
       "      <td>0</td>\n",
       "    </tr>\n",
       "    <tr>\n",
       "      <th>6</th>\n",
       "      <td>0.475535</td>\n",
       "      <td>0</td>\n",
       "    </tr>\n",
       "    <tr>\n",
       "      <th>8</th>\n",
       "      <td>0.463382</td>\n",
       "      <td>0</td>\n",
       "    </tr>\n",
       "  </tbody>\n",
       "</table>\n",
       "</div>"
      ],
      "text/plain": [
       "      unreliable_score  fake\n",
       "news                        \n",
       "1             0.444374     0\n",
       "3             0.454698     0\n",
       "5             0.381975     0\n",
       "6             0.475535     0\n",
       "8             0.463382     0"
      ]
     },
     "execution_count": 112,
     "metadata": {},
     "output_type": "execute_result"
    }
   ],
   "source": [
    "# Unreliable_score of news on training set\n",
    "# Keep the column 'fake' (the actual label) to compare with unreliable_score\n",
    "\n",
    "train_pred = label_train \\\n",
    "    .merge(news_user, left_on='news', right_on='news', how='left') \\\n",
    "    .merge(followee_fake_percent[['unreliable_score']], left_on='user', right_index=True, how='left') \\\n",
    "    .groupby('news').agg({'unreliable_score':np.mean}) \\\n",
    "    .merge(label_train, left_index=True, right_on='news', how='left') \\\n",
    "    .set_index('news')\n",
    "train_pred.head()"
   ]
  },
  {
   "cell_type": "code",
   "execution_count": 113,
   "metadata": {},
   "outputs": [
    {
     "data": {
      "text/html": [
       "<div>\n",
       "<style scoped>\n",
       "    .dataframe tbody tr th:only-of-type {\n",
       "        vertical-align: middle;\n",
       "    }\n",
       "\n",
       "    .dataframe tbody tr th {\n",
       "        vertical-align: top;\n",
       "    }\n",
       "\n",
       "    .dataframe thead th {\n",
       "        text-align: right;\n",
       "    }\n",
       "</style>\n",
       "<table border=\"1\" class=\"dataframe\">\n",
       "  <thead>\n",
       "    <tr style=\"text-align: right;\">\n",
       "      <th></th>\n",
       "      <th>unreliable_score</th>\n",
       "      <th>fake</th>\n",
       "    </tr>\n",
       "    <tr>\n",
       "      <th>news</th>\n",
       "      <th></th>\n",
       "      <th></th>\n",
       "    </tr>\n",
       "  </thead>\n",
       "  <tbody>\n",
       "    <tr>\n",
       "      <th>9</th>\n",
       "      <td>0.463382</td>\n",
       "      <td>0</td>\n",
       "    </tr>\n",
       "    <tr>\n",
       "      <th>10</th>\n",
       "      <td>0.401671</td>\n",
       "      <td>0</td>\n",
       "    </tr>\n",
       "    <tr>\n",
       "      <th>11</th>\n",
       "      <td>0.547857</td>\n",
       "      <td>0</td>\n",
       "    </tr>\n",
       "    <tr>\n",
       "      <th>13</th>\n",
       "      <td>0.633541</td>\n",
       "      <td>0</td>\n",
       "    </tr>\n",
       "    <tr>\n",
       "      <th>38</th>\n",
       "      <td>0.750000</td>\n",
       "      <td>0</td>\n",
       "    </tr>\n",
       "  </tbody>\n",
       "</table>\n",
       "</div>"
      ],
      "text/plain": [
       "      unreliable_score  fake\n",
       "news                        \n",
       "9             0.463382     0\n",
       "10            0.401671     0\n",
       "11            0.547857     0\n",
       "13            0.633541     0\n",
       "38            0.750000     0"
      ]
     },
     "execution_count": 113,
     "metadata": {},
     "output_type": "execute_result"
    }
   ],
   "source": [
    "# Unreliable_score of news on testing set\n",
    "# Keep the column 'fake' (the actual label) to compare with unreliable_score\n",
    "\n",
    "test_pred = label_test \\\n",
    "    .merge(news_user, left_on='news', right_on='news', how='left') \\\n",
    "    .merge(followee_fake_percent[['unreliable_score']], left_on='user', right_index=True, how='left') \\\n",
    "    .groupby('news').agg({'unreliable_score':np.mean}) \\\n",
    "    .merge(label_test, left_index=True, right_on='news', how='left') \\\n",
    "    .set_index('news')\n",
    "test_pred.head()"
   ]
  },
  {
   "cell_type": "markdown",
   "metadata": {},
   "source": [
    "## Make prediction based on unreliable score of news - Choose optimal threshold\n",
    "    \"News is more likely to be fake if it has high unreliable score.\""
   ]
  },
  {
   "cell_type": "code",
   "execution_count": 114,
   "metadata": {
    "scrolled": false
   },
   "outputs": [
    {
     "data": {
      "text/html": [
       "<div>\n",
       "<style scoped>\n",
       "    .dataframe tbody tr th:only-of-type {\n",
       "        vertical-align: middle;\n",
       "    }\n",
       "\n",
       "    .dataframe tbody tr th {\n",
       "        vertical-align: top;\n",
       "    }\n",
       "\n",
       "    .dataframe thead th {\n",
       "        text-align: right;\n",
       "    }\n",
       "</style>\n",
       "<table border=\"1\" class=\"dataframe\">\n",
       "  <thead>\n",
       "    <tr style=\"text-align: right;\">\n",
       "      <th></th>\n",
       "      <th>f_measure_train</th>\n",
       "      <th>f_measure_test</th>\n",
       "    </tr>\n",
       "    <tr>\n",
       "      <th>threshold</th>\n",
       "      <th></th>\n",
       "      <th></th>\n",
       "    </tr>\n",
       "  </thead>\n",
       "  <tbody>\n",
       "    <tr>\n",
       "      <th>0.00</th>\n",
       "      <td>0.657895</td>\n",
       "      <td>0.7</td>\n",
       "    </tr>\n",
       "    <tr>\n",
       "      <th>0.01</th>\n",
       "      <td>0.657895</td>\n",
       "      <td>0.7</td>\n",
       "    </tr>\n",
       "    <tr>\n",
       "      <th>0.02</th>\n",
       "      <td>0.657895</td>\n",
       "      <td>0.7</td>\n",
       "    </tr>\n",
       "    <tr>\n",
       "      <th>0.03</th>\n",
       "      <td>0.657895</td>\n",
       "      <td>0.7</td>\n",
       "    </tr>\n",
       "    <tr>\n",
       "      <th>0.04</th>\n",
       "      <td>0.657895</td>\n",
       "      <td>0.7</td>\n",
       "    </tr>\n",
       "  </tbody>\n",
       "</table>\n",
       "</div>"
      ],
      "text/plain": [
       "           f_measure_train  f_measure_test\n",
       "threshold                                 \n",
       "0.00              0.657895             0.7\n",
       "0.01              0.657895             0.7\n",
       "0.02              0.657895             0.7\n",
       "0.03              0.657895             0.7\n",
       "0.04              0.657895             0.7"
      ]
     },
     "execution_count": 114,
     "metadata": {},
     "output_type": "execute_result"
    }
   ],
   "source": [
    "# Given a threshold, news is considered as fake if the fake_score is greater than the threshold.\n",
    "# How to choose threshold?\n",
    "# Loop through many thresholds from 0 to 1, calculate the f-measure at each level of threshold\n",
    "\n",
    "threshold = []\n",
    "f_measure_train = []\n",
    "f_measure_test = []\n",
    "\n",
    "for threshold_i in np.linspace(0, 1, 101):\n",
    "\n",
    "    f_measure_train_i = f1_score(y_true=train_pred['fake'],\n",
    "                                 y_pred=[int(x>threshold_i) for x in train_pred['unreliable_score']])\n",
    "    \n",
    "    f_measure_test_i = f1_score(y_true=test_pred['fake'],\n",
    "                                y_pred=[int(x>threshold_i) for x in test_pred['unreliable_score']])\n",
    "    \n",
    "    f_measure_train.append(f_measure_train_i)\n",
    "    f_measure_test.append(f_measure_test_i)\n",
    "    threshold.append(threshold_i)\n",
    "    \n",
    "f_measure = pd.DataFrame([threshold, f_measure_train, f_measure_test]).transpose()\n",
    "f_measure.columns = ['threshold' , 'f_measure_train', 'f_measure_test']\n",
    "f_measure.set_index('threshold', inplace=True)\n",
    "f_measure.head()"
   ]
  },
  {
   "cell_type": "code",
   "execution_count": 115,
   "metadata": {},
   "outputs": [
    {
     "name": "stdout",
     "output_type": "stream",
     "text": [
      "Maximum F-measure on testing set is 0.9047619047619048\n"
     ]
    },
    {
     "data": {
      "image/png": "[encoded data removed]",
      "text/plain": [
       "<Figure size 432x288 with 1 Axes>"
      ]
     },
     "metadata": {
      "needs_background": "light"
     },
     "output_type": "display_data"
    }
   ],
   "source": [
    "print('Maximum F-measure on testing set is {}'.format(np.max(f_measure_test)))\n",
    "\n",
    "sns.lineplot(data=f_measure)\n",
    "plt.axvline(x=0.7, color='black', linestyle=':');\n",
    "\n",
    "# It's obvious that f measure on training set is always greater than testing set, given a threshold.\n",
    "# Regardless, the f measure reaches the peak at threshold=0.7\n",
    "# choose threshold := 0.7"
   ]
  },
  {
   "cell_type": "markdown",
   "metadata": {},
   "source": [
    "## Choose optimal p\n",
    "    \"What makes a user be unreliable: himself or his friends?\""
   ]
  },
  {
   "cell_type": "markdown",
   "metadata": {},
   "source": [
    "    - Note that the above prediction is made based on unreliable_score, which is calculated by\n",
    "    0.5*fake_percent + 0.5*followee_fake_percent (p=0.5).\n",
    "    - We now comeback to choose the optimal p.\n",
    "    - Unreliable score of a user should base entirely on himself (p=1) or entirely on his friends (p=0)?\n",
    "    - As demonstrated above, when p=0.5, the maximum F-measure we can obtain on testing set is 0.90476.\n",
    "    - We will loop though many p, ranging from 0 to 1, let's see how maximum F-measure evolves."
   ]
  },
  {
   "cell_type": "code",
   "execution_count": 116,
   "metadata": {},
   "outputs": [
    {
     "data": {
      "text/html": [
       "<div>\n",
       "<style scoped>\n",
       "    .dataframe tbody tr th:only-of-type {\n",
       "        vertical-align: middle;\n",
       "    }\n",
       "\n",
       "    .dataframe tbody tr th {\n",
       "        vertical-align: top;\n",
       "    }\n",
       "\n",
       "    .dataframe thead th {\n",
       "        text-align: right;\n",
       "    }\n",
       "</style>\n",
       "<table border=\"1\" class=\"dataframe\">\n",
       "  <thead>\n",
       "    <tr style=\"text-align: right;\">\n",
       "      <th></th>\n",
       "      <th>f_measure_max_train</th>\n",
       "      <th>f_measure_max_test</th>\n",
       "      <th>f_measure_mean_train</th>\n",
       "      <th>f_measure_mean_test</th>\n",
       "    </tr>\n",
       "    <tr>\n",
       "      <th>p</th>\n",
       "      <th></th>\n",
       "      <th></th>\n",
       "      <th></th>\n",
       "      <th></th>\n",
       "    </tr>\n",
       "  </thead>\n",
       "  <tbody>\n",
       "    <tr>\n",
       "      <th>0.00</th>\n",
       "      <td>0.980392</td>\n",
       "      <td>0.888889</td>\n",
       "      <td>0.666298</td>\n",
       "      <td>0.610474</td>\n",
       "    </tr>\n",
       "    <tr>\n",
       "      <th>0.01</th>\n",
       "      <td>0.980392</td>\n",
       "      <td>0.888889</td>\n",
       "      <td>0.669501</td>\n",
       "      <td>0.611264</td>\n",
       "    </tr>\n",
       "    <tr>\n",
       "      <th>0.02</th>\n",
       "      <td>0.980392</td>\n",
       "      <td>0.888889</td>\n",
       "      <td>0.672240</td>\n",
       "      <td>0.612587</td>\n",
       "    </tr>\n",
       "    <tr>\n",
       "      <th>0.03</th>\n",
       "      <td>0.980392</td>\n",
       "      <td>0.888889</td>\n",
       "      <td>0.675392</td>\n",
       "      <td>0.615127</td>\n",
       "    </tr>\n",
       "    <tr>\n",
       "      <th>0.04</th>\n",
       "      <td>0.980392</td>\n",
       "      <td>0.888889</td>\n",
       "      <td>0.677960</td>\n",
       "      <td>0.616835</td>\n",
       "    </tr>\n",
       "  </tbody>\n",
       "</table>\n",
       "</div>"
      ],
      "text/plain": [
       "      f_measure_max_train  f_measure_max_test  f_measure_mean_train  \\\n",
       "p                                                                     \n",
       "0.00             0.980392            0.888889              0.666298   \n",
       "0.01             0.980392            0.888889              0.669501   \n",
       "0.02             0.980392            0.888889              0.672240   \n",
       "0.03             0.980392            0.888889              0.675392   \n",
       "0.04             0.980392            0.888889              0.677960   \n",
       "\n",
       "      f_measure_mean_test  \n",
       "p                          \n",
       "0.00             0.610474  \n",
       "0.01             0.611264  \n",
       "0.02             0.612587  \n",
       "0.03             0.615127  \n",
       "0.04             0.616835  "
      ]
     },
     "execution_count": 116,
     "metadata": {},
     "output_type": "execute_result"
    }
   ],
   "source": [
    "p = []\n",
    "f_measure_max_train = []\n",
    "f_measure_max_test = []\n",
    "\n",
    "f_measure_mean_train = []\n",
    "f_measure_mean_test = []\n",
    "\n",
    "for p_i in np.linspace(0, 1, 101): # loop through many p values from 0 to 1, step=0.01, at each p:\n",
    "    \n",
    "    # Calculate unreliable_score of each user\n",
    "    followee_fake_percent['unreliable_score'] = p_i*followee_fake_percent['fake_percent'] \\\n",
    "                                                + (1-p_i)*followee_fake_percent['followee_fake_percent']\n",
    "    followee_fake_percent['unreliable_score'].fillna(followee_fake_percent['fake_percent'], inplace=True)\n",
    "    followee_fake_percent['unreliable_score'].fillna(followee_fake_percent['followee_fake_percent'], inplace=True)\n",
    "\n",
    "    \n",
    "    # Calculate unreliable_score of each news on training set\n",
    "    train_pred = label_train \\\n",
    "        .merge(news_user, left_on='news', right_on='news', how='left') \\\n",
    "        .merge(followee_fake_percent[['unreliable_score']], left_on='user', right_index=True, how='left') \\\n",
    "        .groupby('news').agg({'unreliable_score':np.mean}) \\\n",
    "        .merge(label_train, left_index=True, right_on='news', how='left') \\\n",
    "        .set_index('news')\n",
    "    \n",
    "    # Calculate unreliable_score of each news on testing set\n",
    "    test_pred = label_test \\\n",
    "        .merge(news_user, left_on='news', right_on='news', how='left') \\\n",
    "        .merge(followee_fake_percent[['unreliable_score']], left_on='user', right_index=True, how='left') \\\n",
    "        .groupby('news').agg({'unreliable_score':np.mean}) \\\n",
    "        .merge(label_test, left_index=True, right_on='news', how='left') \\\n",
    "        .set_index('news')\n",
    "\n",
    "    \n",
    "    # Store max and average F-measure at each threshold level\n",
    "    f_measure_max_train_p = 0\n",
    "    f_measure_max_test_p = 0\n",
    "    \n",
    "    f_measure_mean_train_p = []\n",
    "    f_measure_mean_test_p = []\n",
    "    \n",
    "    for threshold_i in np.linspace(0, 1, 101):\n",
    "        \n",
    "        f_measure_train_p = f1_score(y_true=train_pred['fake'],\n",
    "                                     y_pred=[int(x>threshold_i) for x in train_pred['unreliable_score']])\n",
    "        \n",
    "        f_measure_test_p = f1_score(y_true=test_pred['fake'],\n",
    "                                    y_pred=[int(x>threshold_i) for x in test_pred['unreliable_score']])\n",
    "            \n",
    "        f_measure_max_train_p = f_measure_train_p if (f_measure_train_p > f_measure_max_train_p) else f_measure_max_train_p\n",
    "        f_measure_max_test_p = f_measure_test_p if (f_measure_test_p > f_measure_max_test_p) else f_measure_max_test_p\n",
    "        \n",
    "        f_measure_mean_train_p.append(f_measure_train_p)\n",
    "        f_measure_mean_test_p.append(f_measure_test_p)\n",
    "        \n",
    "        \n",
    "    # Append max F-measure\n",
    "    f_measure_max_train.append(f_measure_max_train_p)\n",
    "    f_measure_max_test.append(f_measure_max_test_p)\n",
    "    \n",
    "    # Append average F-measure\n",
    "    f_measure_mean_train_p = np.mean(f_measure_mean_train_p)\n",
    "    f_measure_mean_test_p = np.mean(f_measure_mean_test_p)\n",
    "    \n",
    "    f_measure_mean_train.append(f_measure_mean_train_p)\n",
    "    f_measure_mean_test.append(f_measure_mean_test_p)\n",
    "    \n",
    "    # Append p\n",
    "    p.append(p_i)\n",
    "    \n",
    "\n",
    "f_measure = pd.DataFrame([p,\n",
    "                          f_measure_max_train, f_measure_max_test,\n",
    "                          f_measure_mean_train, f_measure_mean_test]).transpose()\n",
    "f_measure.columns = ['p',\n",
    "                     'f_measure_max_train', 'f_measure_max_test',\n",
    "                     'f_measure_mean_train', 'f_measure_mean_test']\n",
    "f_measure.set_index('p', inplace=True)\n",
    "f_measure.head()"
   ]
  },
  {
   "cell_type": "code",
   "execution_count": 117,
   "metadata": {},
   "outputs": [
    {
     "name": "stdout",
     "output_type": "stream",
     "text": [
      "Highest F-measure on testing set is 0.9767441860465117\n"
     ]
    },
    {
     "data": {
      "image/png": "[encoded data removed]",
      "text/plain": [
       "<Figure size 1080x288 with 2 Axes>"
      ]
     },
     "metadata": {
      "needs_background": "light"
     },
     "output_type": "display_data"
    }
   ],
   "source": [
    "print('Highest F-measure on testing set is {}'.format(np.max(f_measure_max_test)))\n",
    "\n",
    "plt.rcParams['figure.figsize'] = [15, 4] # size of plot\n",
    "fig, axs = plt.subplots(ncols=2)\n",
    "\n",
    "ax = sns.lineplot(data=f_measure[['f_measure_max_train', 'f_measure_max_test']], ax=axs[0])\n",
    "ax.set(xlabel='Proportion of fake_percent',\n",
    "       ylabel='Max F-measure',\n",
    "       title='How p impact on Max F-measure?')\n",
    "ax.axvline(x=1.0, color='black', linestyle=':');\n",
    "\n",
    "\n",
    "bx = sns.lineplot(data=f_measure[['f_measure_mean_train', 'f_measure_mean_test']], ax=axs[1])\n",
    "bx.set(xlabel='Proportion of fake_percent',\n",
    "       ylabel='Average F-measure',\n",
    "       title='How p impact on Average F-measure?')\n",
    "bx.axvline(x=1.0, color='black', linestyle=':');"
   ]
  },
  {
   "cell_type": "markdown",
   "metadata": {},
   "source": [
    "    - Remind: For each user: unreliable_score = p*fake_percent + (1-p)*followee_fake_percent\n",
    "              For each news: unreliable_score = Average users' unreliable_score\n",
    "              \n",
    "    - At each value of p (proportion of fake_perfent), we calculate unreliable_score of evey users, then calculate\n",
    "    unreliable_score of every news, then calculate maximum F-measure possible.\n",
    "    So for each p, we have one value of maximum F-measure.\n",
    "\n",
    "    - Interestingly, at p=1, the maximum F-measure we can obtain is 0.97674, which is greater than any other values of p.\n",
    "    - Therefore, unreliable score of a user should base completely on himself (p=1) because at p=1 we get highest max\n",
    "    F-measure (and highest average F-measure)."
   ]
  },
  {
   "cell_type": "markdown",
   "metadata": {},
   "source": [
    "## Calculate centrality measures of user\n",
    "    \"Are centrality measures associated with reliable level of users?\""
   ]
  },
  {
   "cell_type": "raw",
   "metadata": {},
   "source": [
    "# Calcualte centrality measures of users\n",
    "\n",
    "start = datetime.now()\n",
    "\n",
    "degree= nx.degree_centrality(g)\n",
    "closeness = nx.closeness_centrality(g)\n",
    "eigenvector = nx.eigenvector_centrality_numpy(g)\n",
    "katz = nx.katz_centrality_numpy(g)\n",
    "betweenness = nx.betweenness_centrality(g)\n",
    "\n",
    "end = datetime.now() \n",
    "str(end-start)"
   ]
  },
  {
   "cell_type": "raw",
   "metadata": {},
   "source": [
    "# It takes 6 hours to run the above centrality measures.\n",
    "# Therefore, we save the results (in pickle format) to load it quicklier.\n",
    "# Save centrality measures\n",
    "\n",
    "with open('Temporary_Files/degree.pickle', 'wb') as handle:\n",
    "    pickle.dump(degree, handle, protocol=pickle.HIGHEST_PROTOCOL)\n",
    "\n",
    "with open('Temporary_Files/closeness.pickle', 'wb') as handle:\n",
    "    pickle.dump(closeness, handle, protocol=pickle.HIGHEST_PROTOCOL)\n",
    "\n",
    "with open('Temporary_Files/eigenvector.pickle', 'wb') as handle:\n",
    "    pickle.dump(eigenvector, handle, protocol=pickle.HIGHEST_PROTOCOL)\n",
    "\n",
    "with open('Temporary_Files/katz.pickle', 'wb') as handle:\n",
    "    pickle.dump(katz, handle, protocol=pickle.HIGHEST_PROTOCOL)\n",
    "\n",
    "with open('Temporary_Files/betweenness.pickle', 'wb') as handle:\n",
    "    pickle.dump(betweenness, handle, protocol=pickle.HIGHEST_PROTOCOL)"
   ]
  },
  {
   "cell_type": "code",
   "execution_count": 118,
   "metadata": {},
   "outputs": [],
   "source": [
    "# Load centrality measures\n",
    "with open('Temporary_Files/degree.pickle', 'rb') as handle:\n",
    "    degree = pickle.load(handle)\n",
    "    \n",
    "with open('Temporary_Files/closeness.pickle', 'rb') as handle:\n",
    "    closeness = pickle.load(handle)\n",
    "\n",
    "with open('Temporary_Files/eigenvector.pickle', 'rb') as handle:\n",
    "    eigenvector = pickle.load(handle)\n",
    "\n",
    "with open('Temporary_Files/katz.pickle', 'rb') as handle:\n",
    "    katz = pickle.load(handle)\n",
    "\n",
    "with open('Temporary_Files/betweenness.pickle', 'rb') as handle:\n",
    "    betweenness = pickle.load(handle)    "
   ]
  },
  {
   "cell_type": "code",
   "execution_count": 119,
   "metadata": {
    "scrolled": true
   },
   "outputs": [
    {
     "data": {
      "text/html": [
       "<div>\n",
       "<style scoped>\n",
       "    .dataframe tbody tr th:only-of-type {\n",
       "        vertical-align: middle;\n",
       "    }\n",
       "\n",
       "    .dataframe tbody tr th {\n",
       "        vertical-align: top;\n",
       "    }\n",
       "\n",
       "    .dataframe thead th {\n",
       "        text-align: right;\n",
       "    }\n",
       "</style>\n",
       "<table border=\"1\" class=\"dataframe\">\n",
       "  <thead>\n",
       "    <tr style=\"text-align: right;\">\n",
       "      <th></th>\n",
       "      <th>degree</th>\n",
       "      <th>closeness</th>\n",
       "      <th>eigenvector</th>\n",
       "      <th>katz</th>\n",
       "      <th>betweenness</th>\n",
       "    </tr>\n",
       "    <tr>\n",
       "      <th>user</th>\n",
       "      <th></th>\n",
       "      <th></th>\n",
       "      <th></th>\n",
       "      <th></th>\n",
       "      <th></th>\n",
       "    </tr>\n",
       "  </thead>\n",
       "  <tbody>\n",
       "    <tr>\n",
       "      <th>507</th>\n",
       "      <td>0.000461</td>\n",
       "      <td>0.313734</td>\n",
       "      <td>0.000146</td>\n",
       "      <td>0.006121</td>\n",
       "      <td>0.000242</td>\n",
       "    </tr>\n",
       "    <tr>\n",
       "      <th>1</th>\n",
       "      <td>0.000335</td>\n",
       "      <td>0.290649</td>\n",
       "      <td>0.000788</td>\n",
       "      <td>-0.002283</td>\n",
       "      <td>0.000003</td>\n",
       "    </tr>\n",
       "    <tr>\n",
       "      <th>1589</th>\n",
       "      <td>0.009261</td>\n",
       "      <td>0.339624</td>\n",
       "      <td>0.018251</td>\n",
       "      <td>-0.023112</td>\n",
       "      <td>0.000062</td>\n",
       "    </tr>\n",
       "    <tr>\n",
       "      <th>5307</th>\n",
       "      <td>0.000796</td>\n",
       "      <td>0.327333</td>\n",
       "      <td>0.002286</td>\n",
       "      <td>-0.001020</td>\n",
       "      <td>0.000022</td>\n",
       "    </tr>\n",
       "    <tr>\n",
       "      <th>11421</th>\n",
       "      <td>0.004903</td>\n",
       "      <td>0.341899</td>\n",
       "      <td>0.018435</td>\n",
       "      <td>-0.007095</td>\n",
       "      <td>0.000020</td>\n",
       "    </tr>\n",
       "  </tbody>\n",
       "</table>\n",
       "</div>"
      ],
      "text/plain": [
       "         degree  closeness  eigenvector      katz  betweenness\n",
       "user                                                          \n",
       "507    0.000461   0.313734     0.000146  0.006121     0.000242\n",
       "1      0.000335   0.290649     0.000788 -0.002283     0.000003\n",
       "1589   0.009261   0.339624     0.018251 -0.023112     0.000062\n",
       "5307   0.000796   0.327333     0.002286 -0.001020     0.000022\n",
       "11421  0.004903   0.341899     0.018435 -0.007095     0.000020"
      ]
     },
     "execution_count": 119,
     "metadata": {},
     "output_type": "execute_result"
    }
   ],
   "source": [
    "centrality = pd.concat([pd.Series(degree),\n",
    "                        pd.Series(closeness),\n",
    "                        pd.Series(eigenvector),\n",
    "                        pd.Series(katz),\n",
    "                        pd.Series(betweenness)],\n",
    "                      axis=1)\n",
    "\n",
    "centrality.columns = ['degree' ,'closeness', 'eigenvector', 'katz', 'betweenness']\n",
    "centrality.index = centrality.index.astype(int)\n",
    "centrality.index.name = 'user'\n",
    "centrality.head()"
   ]
  },
  {
   "cell_type": "markdown",
   "metadata": {},
   "source": [
    "## Examine realtionship between fake score and centrality measures of user"
   ]
  },
  {
   "cell_type": "code",
   "execution_count": 120,
   "metadata": {},
   "outputs": [
    {
     "data": {
      "text/html": [
       "<div>\n",
       "<style scoped>\n",
       "    .dataframe tbody tr th:only-of-type {\n",
       "        vertical-align: middle;\n",
       "    }\n",
       "\n",
       "    .dataframe tbody tr th {\n",
       "        vertical-align: top;\n",
       "    }\n",
       "\n",
       "    .dataframe thead th {\n",
       "        text-align: right;\n",
       "    }\n",
       "</style>\n",
       "<table border=\"1\" class=\"dataframe\">\n",
       "  <thead>\n",
       "    <tr style=\"text-align: right;\">\n",
       "      <th></th>\n",
       "      <th>fake_percent</th>\n",
       "      <th>followee_fake_percent</th>\n",
       "      <th>unreliable_score</th>\n",
       "      <th>news_count</th>\n",
       "      <th>degree</th>\n",
       "      <th>closeness</th>\n",
       "      <th>eigenvector</th>\n",
       "      <th>katz</th>\n",
       "      <th>betweenness</th>\n",
       "    </tr>\n",
       "    <tr>\n",
       "      <th>user</th>\n",
       "      <th></th>\n",
       "      <th></th>\n",
       "      <th></th>\n",
       "      <th></th>\n",
       "      <th></th>\n",
       "      <th></th>\n",
       "      <th></th>\n",
       "      <th></th>\n",
       "      <th></th>\n",
       "    </tr>\n",
       "  </thead>\n",
       "  <tbody>\n",
       "    <tr>\n",
       "      <th>1</th>\n",
       "      <td>1.0</td>\n",
       "      <td>1.000000</td>\n",
       "      <td>1.0</td>\n",
       "      <td>1.0</td>\n",
       "      <td>0.000335</td>\n",
       "      <td>0.290649</td>\n",
       "      <td>0.000788</td>\n",
       "      <td>-0.002283</td>\n",
       "      <td>0.000003</td>\n",
       "    </tr>\n",
       "    <tr>\n",
       "      <th>3</th>\n",
       "      <td>1.0</td>\n",
       "      <td>0.882353</td>\n",
       "      <td>1.0</td>\n",
       "      <td>1.0</td>\n",
       "      <td>0.002347</td>\n",
       "      <td>0.397290</td>\n",
       "      <td>0.002666</td>\n",
       "      <td>-0.026034</td>\n",
       "      <td>0.000371</td>\n",
       "    </tr>\n",
       "    <tr>\n",
       "      <th>4</th>\n",
       "      <td>1.0</td>\n",
       "      <td>0.545455</td>\n",
       "      <td>1.0</td>\n",
       "      <td>1.0</td>\n",
       "      <td>0.001173</td>\n",
       "      <td>0.365630</td>\n",
       "      <td>0.002683</td>\n",
       "      <td>0.002735</td>\n",
       "      <td>0.000049</td>\n",
       "    </tr>\n",
       "    <tr>\n",
       "      <th>5</th>\n",
       "      <td>0.0</td>\n",
       "      <td>0.806643</td>\n",
       "      <td>0.0</td>\n",
       "      <td>1.0</td>\n",
       "      <td>0.010350</td>\n",
       "      <td>0.403239</td>\n",
       "      <td>0.004829</td>\n",
       "      <td>-0.005675</td>\n",
       "      <td>0.001194</td>\n",
       "    </tr>\n",
       "    <tr>\n",
       "      <th>7</th>\n",
       "      <td>1.0</td>\n",
       "      <td>1.000000</td>\n",
       "      <td>1.0</td>\n",
       "      <td>1.0</td>\n",
       "      <td>0.000168</td>\n",
       "      <td>0.277350</td>\n",
       "      <td>0.000018</td>\n",
       "      <td>0.000462</td>\n",
       "      <td>0.000087</td>\n",
       "    </tr>\n",
       "  </tbody>\n",
       "</table>\n",
       "</div>"
      ],
      "text/plain": [
       "      fake_percent  followee_fake_percent  unreliable_score  news_count  \\\n",
       "user                                                                      \n",
       "1              1.0               1.000000               1.0         1.0   \n",
       "3              1.0               0.882353               1.0         1.0   \n",
       "4              1.0               0.545455               1.0         1.0   \n",
       "5              0.0               0.806643               0.0         1.0   \n",
       "7              1.0               1.000000               1.0         1.0   \n",
       "\n",
       "        degree  closeness  eigenvector      katz  betweenness  \n",
       "user                                                           \n",
       "1     0.000335   0.290649     0.000788 -0.002283     0.000003  \n",
       "3     0.002347   0.397290     0.002666 -0.026034     0.000371  \n",
       "4     0.001173   0.365630     0.002683  0.002735     0.000049  \n",
       "5     0.010350   0.403239     0.004829 -0.005675     0.001194  \n",
       "7     0.000168   0.277350     0.000018  0.000462     0.000087  "
      ]
     },
     "execution_count": 120,
     "metadata": {},
     "output_type": "execute_result"
    }
   ],
   "source": [
    "user_profile = followee_fake_percent \\\n",
    "    .merge(user_fake_percent[['news_count']], left_index=True, right_index=True, how='left') \\\n",
    "    .merge(centrality, left_index=True, right_index=True, how='left')\n",
    "\n",
    "user_profile.head()"
   ]
  },
  {
   "cell_type": "code",
   "execution_count": 121,
   "metadata": {},
   "outputs": [
    {
     "data": {
      "image/png": "[encoded data removed]",
      "text/plain": [
       "<Figure size 504x288 with 1 Axes>"
      ]
     },
     "metadata": {
      "needs_background": "light"
     },
     "output_type": "display_data"
    }
   ],
   "source": [
    "plt.rcParams['figure.figsize'] = [7, 4] # size of plot\n",
    "sns.scatterplot(data=user_profile,\n",
    "                x='news_count',\n",
    "                y='unreliable_score');\n",
    "# Users post more GENERALLY have more unreliable_score. Nevertheless, the relationship is not strong."
   ]
  },
  {
   "cell_type": "code",
   "execution_count": 122,
   "metadata": {
    "scrolled": false
   },
   "outputs": [
    {
     "data": {
      "image/png": "[encoded data removed]",
      "text/plain": [
       "<Figure size 900x360 with 10 Axes>"
      ]
     },
     "metadata": {
      "needs_background": "light"
     },
     "output_type": "display_data"
    }
   ],
   "source": [
    "sns.pairplot(data = user_profile,\n",
    "             x_vars = ['degree', 'closeness', 'eigenvector', 'katz', 'betweenness'],\n",
    "             y_vars = ['news_count', 'unreliable_score']);"
   ]
  },
  {
   "cell_type": "markdown",
   "metadata": {},
   "source": [
    "    There seems no relationship between unreliable_score|news_count and the user centrality measures.\n",
    "    As a result, we don't take the centrality measures into 'unreliable score' of a user."
   ]
  },
  {
   "cell_type": "markdown",
   "metadata": {},
   "source": [
    "    We have also used graph clustering methods with the hope that \"Users post more fake news will be in the same clusters\".\n",
    "    However, the our cluster results do not separate well reliable users and unreliable users."
   ]
  },
  {
   "cell_type": "markdown",
   "metadata": {},
   "source": [
    "## For submission"
   ]
  },
  {
   "cell_type": "code",
   "execution_count": 123,
   "metadata": {},
   "outputs": [
    {
     "data": {
      "text/html": [
       "<div>\n",
       "<style scoped>\n",
       "    .dataframe tbody tr th:only-of-type {\n",
       "        vertical-align: middle;\n",
       "    }\n",
       "\n",
       "    .dataframe tbody tr th {\n",
       "        vertical-align: top;\n",
       "    }\n",
       "\n",
       "    .dataframe thead th {\n",
       "        text-align: right;\n",
       "    }\n",
       "</style>\n",
       "<table border=\"1\" class=\"dataframe\">\n",
       "  <thead>\n",
       "    <tr style=\"text-align: right;\">\n",
       "      <th></th>\n",
       "      <th>unreliable_score</th>\n",
       "      <th>fake_pred</th>\n",
       "    </tr>\n",
       "    <tr>\n",
       "      <th>news</th>\n",
       "      <th></th>\n",
       "      <th></th>\n",
       "    </tr>\n",
       "  </thead>\n",
       "  <tbody>\n",
       "    <tr>\n",
       "      <th>2</th>\n",
       "      <td>0.246488</td>\n",
       "      <td>0</td>\n",
       "    </tr>\n",
       "    <tr>\n",
       "      <th>4</th>\n",
       "      <td>0.303571</td>\n",
       "      <td>0</td>\n",
       "    </tr>\n",
       "    <tr>\n",
       "      <th>7</th>\n",
       "      <td>0.252778</td>\n",
       "      <td>0</td>\n",
       "    </tr>\n",
       "    <tr>\n",
       "      <th>16</th>\n",
       "      <td>0.032407</td>\n",
       "      <td>0</td>\n",
       "    </tr>\n",
       "    <tr>\n",
       "      <th>17</th>\n",
       "      <td>0.135556</td>\n",
       "      <td>0</td>\n",
       "    </tr>\n",
       "  </tbody>\n",
       "</table>\n",
       "</div>"
      ],
      "text/plain": [
       "      unreliable_score  fake_pred\n",
       "news                             \n",
       "2             0.246488          0\n",
       "4             0.303571          0\n",
       "7             0.252778          0\n",
       "16            0.032407          0\n",
       "17            0.135556          0"
      ]
     },
     "execution_count": 123,
     "metadata": {},
     "output_type": "execute_result"
    }
   ],
   "source": [
    "# The above analysis is perform on training label set, i.e. we didn't use all the data to train model.\n",
    "# For the final model, we need to calculate again the user unreliable score based on whole available data.\n",
    "# The steps are exactly identical as above, just replace \"label_train\" by \"label\" data.\n",
    "\n",
    "# Merge label to news user\n",
    "news_user_label = news_user.merge(label, left_on='news', right_on='news', how='left', copy=False)\n",
    "news_user_label = news_user_label[~news_user_label.fake.isnull()] # not NA in column fake (have label)\n",
    "news_user_label['fake_count'] = news_user_label['fake']*news_user_label['time'] # fake scaled by the times of posting\n",
    "\n",
    "# Calculate percentage fake news posted by each user\n",
    "user_fake_percent = news_user_label.groupby('user').agg({'time':'sum', # for each user, calculate total posting\n",
    "                                                         'fake_count':'sum'}) # calculate total fake\n",
    "user_fake_percent.columns = ['news_count','fake_count']\n",
    "user_fake_percent['fake_percent'] = user_fake_percent['fake_count']/user_fake_percent['news_count'] # percentage of fake\n",
    "user_fake_percent.sort_values(['fake_percent','news_count'], ascending=False, inplace=True) # sort value\n",
    "\n",
    "# Calculate percentage fake news posted by each user's followees\n",
    "followee_fake_percent = user_user \\\n",
    "    .merge(user_fake_percent[['fake_percent']], left_on='user_followee', right_index=True, how='left') \\\n",
    "    .groupby('user').agg({'fake_percent':np.mean})\n",
    "followee_fake_percent.columns = ['followee_fake_percent']\n",
    "followee_fake_percent = followee_fake_percent[~followee_fake_percent.followee_fake_percent.isna()] # remove \n",
    "followee_fake_percent = user_fake_percent[['fake_percent']] \\\n",
    "    .merge(followee_fake_percent, left_index=True, right_index=True, how='outer')\n",
    "\n",
    "# Calculate unreliable score of news\n",
    "final_pred = news_user.merge(label, left_on='news', right_on='news', how='left', copy=False)\n",
    "final_pred = final_pred \\\n",
    "    .loc[final_pred.fake.isnull(),:] \\\n",
    "    .merge(followee_fake_percent[['fake_percent','followee_fake_percent']], left_on='user', right_index=True, how='left') \\\n",
    "    .groupby('news').agg({'fake_percent':np.mean,\n",
    "                          'followee_fake_percent':np.mean})\n",
    "\n",
    "# If a news is posted by users who all don't have fake_percent, take the followee_fake_percent to determine if the news is fake\n",
    "final_pred['fake_percent'].fillna(final_pred['followee_fake_percent'], inplace=True)\n",
    "final_pred.drop('followee_fake_percent', axis=1, inplace=True)\n",
    "final_pred.columns = ['unreliable_score']\n",
    "\n",
    "# Calculate fake prediction\n",
    "threshold = 0.7\n",
    "final_pred['fake_pred'] = [int(x>threshold) for x in final_pred['unreliable_score']]\n",
    "\n",
    "final_pred.head()"
   ]
  },
  {
   "cell_type": "raw",
   "metadata": {},
   "source": [
    "# For submission file format\n",
    "final_pred = final_pred[['fake_pred']]\n",
    "final_pred.reset_index(inplace=True)\n",
    "final_pred.columns = ['doc', 'class']\n",
    "final_pred.to_csv('Submission/Version3.csv', index=False)"
   ]
  },
  {
   "cell_type": "markdown",
   "metadata": {},
   "source": [
    "### ========================================================================================="
   ]
  },
  {
   "cell_type": "markdown",
   "metadata": {},
   "source": [
    "# Text Approach"
   ]
  },
  {
   "cell_type": "markdown",
   "metadata": {},
   "source": [
    "### Steps:\n",
    "    We are going to apply two methods of text mining: Naive Bayes Classifier (NB) and Support Vector Machines (SVM).\n",
    "    \n",
    "    Steps at each method:\n",
    "        - Train model\n",
    "        - Choose optimal parameters for the model\n",
    "        - Choose threshold and valuate model\n",
    "        \n",
    "    Before applying the two machine learning algorithms, we use text-preprocess techniques (token) and tf-idf representation in order to transform the data into appropriate form to apply the models."
   ]
  },
  {
   "cell_type": "code",
   "execution_count": 124,
   "metadata": {},
   "outputs": [],
   "source": [
    "from gensim.models import Word2Vec\n",
    "\n",
    "import nltk\n",
    "from nltk.corpus import twitter_samples, stopwords\n",
    "from nltk.stem.porter import PorterStemmer\n",
    "from nltk.stem.snowball import SnowballStemmer\n",
    "from nltk.collocations import *\n",
    "from nltk import tokenize\n",
    "\n",
    "import glob\n",
    "import re"
   ]
  },
  {
   "cell_type": "code",
   "execution_count": 125,
   "metadata": {},
   "outputs": [],
   "source": [
    "from sklearn.feature_extraction.text import TfidfVectorizer, CountVectorizer\n",
    "from sklearn.feature_extraction.text import TfidfTransformer\n",
    "from sklearn.preprocessing import Normalizer\n",
    "from sklearn import metrics\n",
    "\n",
    "from sklearn.pipeline import Pipeline\n",
    "\n",
    "from sklearn.naive_bayes import MultinomialNB\n",
    "from sklearn.linear_model import SGDClassifier\n",
    "\n",
    "from sklearn.model_selection import GridSearchCV"
   ]
  },
  {
   "cell_type": "markdown",
   "metadata": {},
   "source": [
    "## Example one document"
   ]
  },
  {
   "cell_type": "code",
   "execution_count": 126,
   "metadata": {},
   "outputs": [
    {
     "name": "stdout",
     "output_type": "stream",
     "text": [
      "Trump Just Insulted Millions Who Lost Everything In Bush's Recession, \"That's Just Business\"\n",
      "\n",
      "16.8k SHARES SHARE THIS STORY\n",
      "\n",
      "Hillary Clinton just called out the fact that Donald Trump cheered for the housing crisis in anticipation of its collapse – which is absolutely true. Trump told The Globe and Mail in March of 2007: “People have been talking about the end of the cycle for 12 years, and I’m excited if it is. I’ve always made more money in bad markets than in good markets.”\n",
      "\n",
      "In fact, Trump thought the housing crisis was much-ado-do about nothing for high-end investments, and told investors: “I don’t see the subprime problems affecting the higher-end stuff…In fact, he is advising investors that there are now great deals in buying subprime mortgages at a discount and repossessed houses at low prices.”\n",
      "\n",
      "Of course, on one level, Trump wasn’t wrong­­—in that the subprime crisis affected mostly poorer Americans who lost their homes and jobs and the ability to support their families. The collapse of home prices caused by the housing bubble cost roughly seven million Americans more than $7 trillion in equity during the Great Recession.\n",
      "\n",
      "This recession most severely impacted low-income folks – people who are burdened with payments in excess of 50 percent of their income – Trump’s response is just “That’s called business.”\n",
      "\n",
      "Add your name to millions demanding that Congress take action on the President’s crimes. IMPEACH DONALD TRUMP!\n"
     ]
    }
   ],
   "source": [
    "f = open(file=\"fake-news-prediction-toulouse/data_competition/news/training/1.txt\", mode='r', encoding=\"utf8\")\n",
    "print(f.read())"
   ]
  },
  {
   "cell_type": "code",
   "execution_count": 127,
   "metadata": {},
   "outputs": [],
   "source": [
    "with open ('fake-news-prediction-toulouse/data_competition/news/training/1.txt', encoding=\"utf8\") as fin:\n",
    "    words = tokenize.word_tokenize(fin.read())"
   ]
  },
  {
   "cell_type": "code",
   "execution_count": 128,
   "metadata": {
    "scrolled": false
   },
   "outputs": [
    {
     "data": {
      "text/plain": [
       "['trump',\n",
       " 'insult',\n",
       " 'million',\n",
       " 'lost',\n",
       " 'everyth',\n",
       " 'bush',\n",
       " 'recess',\n",
       " 'busi',\n",
       " 'share',\n",
       " 'share']"
      ]
     },
     "execution_count": 128,
     "metadata": {},
     "output_type": "execute_result"
    }
   ],
   "source": [
    "words_lower = [w.lower() for w in words if w.isalpha] # lower case if the word is whole alphabet\n",
    "words_rm_stop = [w for w in words_lower if not w in stopwords.words('english')] # remove stop words\n",
    "words_tag = nltk.pos_tag(words_rm_stop) # POS tagging\n",
    "noun_verb = [w[0] for w in words_tag if w[1].startswith(('NN', 'VB'))] # keep either nouns or verbs\n",
    "noun_verb_stem = [PorterStemmer().stem(w) for w in noun_verb] # strem\n",
    "noun_verb_stem[0:10]"
   ]
  },
  {
   "cell_type": "code",
   "execution_count": 129,
   "metadata": {
    "scrolled": true
   },
   "outputs": [
    {
     "data": {
      "text/plain": [
       "[('abil', 'support'),\n",
       " ('action', 'presid'),\n",
       " ('add', 'name'),\n",
       " ('burden', 'payment'),\n",
       " ('buy', 'mortgag'),\n",
       " ('congress', 'take'),\n",
       " ('cours', 'level'),\n",
       " ('crime', 'impeach'),\n",
       " ('cycl', 'year'),\n",
       " ('deal', 'buy')]"
      ]
     },
     "execution_count": 129,
     "metadata": {},
     "output_type": "execute_result"
    }
   ],
   "source": [
    "bigram_measures = nltk.collocations.BigramAssocMeasures()\n",
    "finder_bi = BigramCollocationFinder.from_words(noun_verb_stem)\n",
    "finder_bi.nbest(score_fn=bigram_measures.pmi, n=10)"
   ]
  },
  {
   "cell_type": "code",
   "execution_count": 130,
   "metadata": {},
   "outputs": [
    {
     "data": {
      "text/plain": [
       "[('abil', 'support', 'famili'),\n",
       " ('burden', 'payment', 'incom'),\n",
       " ('buy', 'mortgag', 'discount'),\n",
       " ('congress', 'take', 'action'),\n",
       " ('cycl', 'year', 'excit'),\n",
       " ('deal', 'buy', 'mortgag'),\n",
       " ('demand', 'congress', 'take'),\n",
       " ('job', 'abil', 'support'),\n",
       " ('made', 'money', 'market'),\n",
       " ('money', 'market', 'markets.')]"
      ]
     },
     "execution_count": 130,
     "metadata": {},
     "output_type": "execute_result"
    }
   ],
   "source": [
    "trigram_measures = nltk.collocations.TrigramAssocMeasures()\n",
    "finder_tri = TrigramCollocationFinder.from_words(noun_verb_stem)\n",
    "finder_tri.nbest(score_fn=trigram_measures.pmi, n=10)"
   ]
  },
  {
   "cell_type": "code",
   "execution_count": 131,
   "metadata": {},
   "outputs": [
    {
     "data": {
      "text/plain": [
       "[('abil', 'support'),\n",
       " ('action', 'presid'),\n",
       " ('add', 'name'),\n",
       " ('burden', 'payment'),\n",
       " ('buy', 'mortgag'),\n",
       " ('congress', 'take'),\n",
       " ('cours', 'level'),\n",
       " ('crime', 'impeach'),\n",
       " ('cycl', 'year'),\n",
       " ('deal', 'buy')]"
      ]
     },
     "execution_count": 131,
     "metadata": {},
     "output_type": "execute_result"
    }
   ],
   "source": [
    "finder_bi = BigramCollocationFinder.from_words(noun_verb_stem)\n",
    "finder_bi.apply_freq_filter(1)\n",
    "finder_bi.nbest(score_fn=bigram_measures.pmi, n=10)"
   ]
  },
  {
   "cell_type": "code",
   "execution_count": 132,
   "metadata": {},
   "outputs": [
    {
     "data": {
      "text/plain": [
       "[('equiti', 0.15568086504936218),\n",
       " ('thought', 0.13307404518127441),\n",
       " ('problem', 0.13017040491104126),\n",
       " ('million', 0.124514639377594),\n",
       " ('discount', 0.11307623982429504),\n",
       " ('home', 0.10667358338832855),\n",
       " ('payment', 0.10384444892406464),\n",
       " ('mail', 0.08498071879148483),\n",
       " ('everyth', 0.07415523380041122),\n",
       " ('congress', 0.07332486659288406)]"
      ]
     },
     "execution_count": 132,
     "metadata": {},
     "output_type": "execute_result"
    }
   ],
   "source": [
    "b = Word2Vec([noun_verb_stem], min_count=1)\n",
    "b.wv.most_similar(positive=[\"trump\"])"
   ]
  },
  {
   "cell_type": "markdown",
   "metadata": {},
   "source": [
    "## For whole data"
   ]
  },
  {
   "cell_type": "markdown",
   "metadata": {},
   "source": [
    "## Import data"
   ]
  },
  {
   "cell_type": "code",
   "execution_count": 133,
   "metadata": {},
   "outputs": [
    {
     "name": "stdout",
     "output_type": "stream",
     "text": [
      "There are 193 news in the training set. Following is one example news:\n"
     ]
    },
    {
     "data": {
      "text/plain": [
       "'Trump Just Insulted Millions Who Lost Everything In Bush\\'s Recession, \"That\\'s Just Business\"  16.8k SHARES SHARE THIS STORY  Hillary Clinton just called out the fact that Donald Trump cheered for the housing crisis in anticipation of its collapse – which is absolutely true. Trump told The Globe and Mail in March of 2007: “People have been talking about the end of the cycle for 12 years, and I’m excited if it is. I’ve always made more money in bad markets than in good markets.”  In fact, Trump thought the housing crisis was much-ado-do about nothing for high-end investments, and told investors: “I don’t see the subprime problems affecting the higher-end stuff…In fact, he is advising investors that there are now great deals in buying subprime mortgages at a discount and repossessed houses at low prices.”  Of course, on one level, Trump wasn’t wrong\\xad\\xad—in that the subprime crisis affected mostly poorer Americans who lost their homes and jobs and the ability to support their families. The collapse of home prices caused by the housing bubble cost roughly seven million Americans more than $7 trillion in equity during the Great Recession.  This recession most severely impacted low-income folks – people who are burdened with payments in excess of 50 percent of their income – Trump’s response is just “That’s called business.”  Add your name to millions demanding that Congress take action on the President’s crimes. IMPEACH DONALD TRUMP!'"
      ]
     },
     "execution_count": 133,
     "metadata": {},
     "output_type": "execute_result"
    }
   ],
   "source": [
    "# Merge all the news into one list 'documents'\n",
    "file_list = glob.glob('./fake-news-prediction-toulouse/data_competition/news/training' + '/*.txt')\n",
    "documents = []\n",
    "for filename in file_list:\n",
    "    with open(filename, 'r', encoding=\"utf8\") as f:\n",
    "        documents.append(f.read().replace('\\n', ' ')) # remove blank line\n",
    "        \n",
    "print('There are {} news in the training set. Following is one example news:'.format(len(documents)))\n",
    "documents[0]"
   ]
  },
  {
   "cell_type": "code",
   "execution_count": 134,
   "metadata": {},
   "outputs": [
    {
     "data": {
      "text/plain": [
       "0    0\n",
       "1    0\n",
       "2    0\n",
       "3    0\n",
       "4    0\n",
       "Name: fake, dtype: int64"
      ]
     },
     "execution_count": 134,
     "metadata": {},
     "output_type": "execute_result"
    }
   ],
   "source": [
    "# The order of news in 'documents' is shuffled.\n",
    "# Therefore, we need to match the label according to the order of news in documents.\n",
    "\n",
    "news_ID = [re.search(r'\\d+', i).group(0) for i in file_list] # extract the news ID in news path\n",
    "news_ID = [int(i) for i in news_ID] # covert to integer\n",
    "news_ID = pd.DataFrame(news_ID)\n",
    "news_ID.columns = ['news']\n",
    "\n",
    "documents_label = news_ID.merge(label, left_on='news', right_on='news', how='left')\n",
    "documents_label = documents_label['fake']\n",
    "documents_label.head()"
   ]
  },
  {
   "cell_type": "code",
   "execution_count": 135,
   "metadata": {},
   "outputs": [],
   "source": [
    "# Split into train and tests set\n",
    "# Note that using identical random_state when spliting documents and documents_lable to make sure the order is ensured.\n",
    "documents_train, documents_test = train_test_split(documents, test_size=0.2, random_state=1234)\n",
    "documents_label_train, documents_label_test = train_test_split(documents_label, test_size=0.2, random_state=1234)"
   ]
  },
  {
   "cell_type": "markdown",
   "metadata": {},
   "source": [
    "## Naive Bayes (NB) classifier"
   ]
  },
  {
   "cell_type": "markdown",
   "metadata": {},
   "source": [
    "###### Train model"
   ]
  },
  {
   "cell_type": "code",
   "execution_count": 136,
   "metadata": {},
   "outputs": [],
   "source": [
    "# Use pipeline to train model\n",
    "text_nb = Pipeline([('vect', CountVectorizer()), # token counts\n",
    "                    ('tfidf', TfidfTransformer()), # tf-idf representation\n",
    "                    ('clf', MultinomialNB())]) # Naive Bayes classifier\n",
    "\n",
    "text_nb = text_nb.fit(documents_train, documents_label_train) # train model"
   ]
  },
  {
   "cell_type": "markdown",
   "metadata": {},
   "source": [
    "###### Choose optimal parameters in model"
   ]
  },
  {
   "cell_type": "raw",
   "metadata": {},
   "source": [
    "parameters_clf = {'vect__ngram_range': [(1, 1), (1, 2)],\n",
    "              'vect__strip_accents': (None, 'unicode'),\n",
    "              'vect__max_df': (0.8, 0.9, 1.0),\n",
    "              'vect__min_df': (0.01, 0.05, 0.1),\n",
    "              'vect__binary': (True, False),\n",
    "              \n",
    "              'tfidf__norm': ('l1', 'l2'),\n",
    "              'tfidf__use_idf': (True, False),\n",
    "              'tfidf__smooth_idf': (True, False),\n",
    "              'tfidf__sublinear_tf': (True, False),\n",
    "              \n",
    "              'clf__alpha': (0, 1e-2),\n",
    "              'clf__fit_prior': (True, False)}\n",
    "\n",
    "gs_nb = GridSearchCV(text_nb, parameters_clf, n_jobs=-1)\n",
    "gs_nb = gs_nb.fit(documents_train, documents_label_train)"
   ]
  },
  {
   "cell_type": "raw",
   "metadata": {},
   "source": [
    "# It takes hours to run the GridSearch\n",
    "# Therefore, we save the result in order to be faster when re-run this notebook\n",
    "with open('Temporary_Files/gs_nb.pickle', 'wb') as handle:\n",
    "    pickle.dump(gs_nb, handle, protocol=pickle.HIGHEST_PROTOCOL)"
   ]
  },
  {
   "cell_type": "code",
   "execution_count": 137,
   "metadata": {},
   "outputs": [],
   "source": [
    "# Load the GridSearch result\n",
    "with open('Temporary_Files/gs_nb.pickle', 'rb') as handle:\n",
    "    gs_nb = pickle.load(handle)"
   ]
  },
  {
   "cell_type": "code",
   "execution_count": 138,
   "metadata": {},
   "outputs": [
    {
     "data": {
      "text/plain": [
       "{'clf__alpha': 0.01,\n",
       " 'clf__fit_prior': True,\n",
       " 'tfidf__norm': 'l1',\n",
       " 'tfidf__smooth_idf': True,\n",
       " 'tfidf__sublinear_tf': True,\n",
       " 'tfidf__use_idf': True,\n",
       " 'vect__binary': False,\n",
       " 'vect__max_df': 0.8,\n",
       " 'vect__min_df': 0.01,\n",
       " 'vect__ngram_range': (1, 2),\n",
       " 'vect__strip_accents': None}"
      ]
     },
     "execution_count": 138,
     "metadata": {},
     "output_type": "execute_result"
    }
   ],
   "source": [
    "# best parameters in GridSearch\n",
    "gs_nb.best_params_"
   ]
  },
  {
   "cell_type": "markdown",
   "metadata": {},
   "source": [
    "###### Choose optimal threshold"
   ]
  },
  {
   "cell_type": "code",
   "execution_count": 139,
   "metadata": {},
   "outputs": [
    {
     "data": {
      "text/html": [
       "<div>\n",
       "<style scoped>\n",
       "    .dataframe tbody tr th:only-of-type {\n",
       "        vertical-align: middle;\n",
       "    }\n",
       "\n",
       "    .dataframe tbody tr th {\n",
       "        vertical-align: top;\n",
       "    }\n",
       "\n",
       "    .dataframe thead th {\n",
       "        text-align: right;\n",
       "    }\n",
       "</style>\n",
       "<table border=\"1\" class=\"dataframe\">\n",
       "  <thead>\n",
       "    <tr style=\"text-align: right;\">\n",
       "      <th></th>\n",
       "      <th>f_measure_train</th>\n",
       "      <th>f_measure_test</th>\n",
       "    </tr>\n",
       "    <tr>\n",
       "      <th>threshold</th>\n",
       "      <th></th>\n",
       "      <th></th>\n",
       "    </tr>\n",
       "  </thead>\n",
       "  <tbody>\n",
       "    <tr>\n",
       "      <th>0.0</th>\n",
       "      <td>0.666667</td>\n",
       "      <td>0.677966</td>\n",
       "    </tr>\n",
       "    <tr>\n",
       "      <th>0.1</th>\n",
       "      <td>0.666667</td>\n",
       "      <td>0.677966</td>\n",
       "    </tr>\n",
       "    <tr>\n",
       "      <th>0.2</th>\n",
       "      <td>0.666667</td>\n",
       "      <td>0.677966</td>\n",
       "    </tr>\n",
       "    <tr>\n",
       "      <th>0.3</th>\n",
       "      <td>0.675439</td>\n",
       "      <td>0.677966</td>\n",
       "    </tr>\n",
       "    <tr>\n",
       "      <th>0.4</th>\n",
       "      <td>0.709677</td>\n",
       "      <td>0.677966</td>\n",
       "    </tr>\n",
       "  </tbody>\n",
       "</table>\n",
       "</div>"
      ],
      "text/plain": [
       "           f_measure_train  f_measure_test\n",
       "threshold                                 \n",
       "0.0               0.666667        0.677966\n",
       "0.1               0.666667        0.677966\n",
       "0.2               0.666667        0.677966\n",
       "0.3               0.675439        0.677966\n",
       "0.4               0.709677        0.677966"
      ]
     },
     "execution_count": 139,
     "metadata": {},
     "output_type": "execute_result"
    }
   ],
   "source": [
    "# Given a threshold, news is considered as fake if the fake_score is greater than the threshold.\n",
    "# How to choose threshold?\n",
    "# Loop through many thresholds from 0 to 1, calculate the f-measure at each level of threshold\n",
    "\n",
    "threshold = []\n",
    "f_measure_train = []\n",
    "f_measure_test = []\n",
    "\n",
    "for threshold_i in np.linspace(0, 1, 11):\n",
    "\n",
    "    f_measure_train_i = f1_score(y_true=documents_label_train,\n",
    "                                 y_pred=[int(x[1]>threshold_i) for x in gs_nb.predict_proba(documents_train)])\n",
    "    \n",
    "    f_measure_test_i = f1_score(y_true=documents_label_test,\n",
    "                                y_pred=[int(x[1]>threshold_i) for x in gs_nb.predict_proba(documents_test)])\n",
    "   \n",
    "    f_measure_train.append(f_measure_train_i)\n",
    "    f_measure_test.append(f_measure_test_i)\n",
    "    threshold.append(threshold_i)\n",
    "    \n",
    "f_measure = pd.DataFrame([threshold, f_measure_train, f_measure_test]).transpose()\n",
    "f_measure.columns = ['threshold' , 'f_measure_train', 'f_measure_test']\n",
    "f_measure.set_index('threshold', inplace=True)\n",
    "f_measure.head()"
   ]
  },
  {
   "cell_type": "code",
   "execution_count": 140,
   "metadata": {},
   "outputs": [
    {
     "name": "stdout",
     "output_type": "stream",
     "text": [
      "Maximum F-measure on testing set is 0.83721\n"
     ]
    },
    {
     "data": {
      "image/png": "[encoded data removed]",
      "text/plain": [
       "<Figure size 504x288 with 1 Axes>"
      ]
     },
     "metadata": {
      "needs_background": "light"
     },
     "output_type": "display_data"
    }
   ],
   "source": [
    "print('Maximum F-measure on testing set is {0:.5f}'.format(np.max(f_measure_test)))\n",
    "\n",
    "sns.lineplot(data=f_measure)\n",
    "plt.axvline(x=0.5, color='black', linestyle=':');\n",
    "\n",
    "# It's obvious that f measure on training set is always greater than testing set, given a threshold.\n",
    "# Regardless, the f measure reaches the peak at threshold=0.5\n",
    "# choose threshold := 0.5"
   ]
  },
  {
   "cell_type": "markdown",
   "metadata": {},
   "source": [
    "## Support Vector Machines (SVM)"
   ]
  },
  {
   "cell_type": "markdown",
   "metadata": {},
   "source": [
    "###### Train model"
   ]
  },
  {
   "cell_type": "code",
   "execution_count": 141,
   "metadata": {},
   "outputs": [],
   "source": [
    "text_svm = Pipeline([('vect', CountVectorizer()),\n",
    "                     ('tfidf', TfidfTransformer()),\n",
    "                     ('svm', SGDClassifier())])\n",
    "\n",
    "text_svm = text_svm.fit(documents_train, documents_label_train)"
   ]
  },
  {
   "cell_type": "markdown",
   "metadata": {},
   "source": [
    "###### Choose optimal parameters in model"
   ]
  },
  {
   "cell_type": "raw",
   "metadata": {},
   "source": [
    "parameters_svm = {'vect__ngram_range': [(1, 1), (1, 2)],\n",
    "                  'vect__strip_accents': (None, 'unicode'),\n",
    "                  'vect__max_df': (0.8, 0.9, 1.0),\n",
    "                  'vect__min_df': (0.0, 0.05, 0.10),\n",
    "                  'vect__binary': (True, False),\n",
    "                  \n",
    "                  'tfidf__norm': ('l1', 'l2'),\n",
    "                  'tfidf__use_idf': (True, False),\n",
    "                  'tfidf__smooth_idf': (True, False),\n",
    "                  'tfidf__sublinear_tf': (True, False),\n",
    "                  \n",
    "                  'svm__loss': ('hinge', 'log'),\n",
    "                  'svm__penalty': ('l1', 'l2'),\n",
    "                  'svm__alpha': (1e-3, 1e-4)\n",
    "                 }\n",
    "\n",
    "gs_svm = GridSearchCV(text_svm, parameters_svm, n_jobs=-1)\n",
    "gs_svm = gs_svm.fit(documents_train, documents_label_train)"
   ]
  },
  {
   "cell_type": "raw",
   "metadata": {},
   "source": [
    "# It takes hours to run the GridSearch\n",
    "# Therefore, we save the result in order to be faster when re-run this notebook\n",
    "with open('Temporary_Files/gs_svm.pickle', 'wb') as handle:\n",
    "    pickle.dump(gs_svm, handle, protocol=pickle.HIGHEST_PROTOCOL)"
   ]
  },
  {
   "cell_type": "code",
   "execution_count": 142,
   "metadata": {},
   "outputs": [],
   "source": [
    "# Load the GridSearch result\n",
    "with open('Temporary_Files/gs_svm.pickle', 'rb') as handle:\n",
    "    gs_svm = pickle.load(handle)"
   ]
  },
  {
   "cell_type": "code",
   "execution_count": 143,
   "metadata": {},
   "outputs": [
    {
     "data": {
      "text/plain": [
       "{'svm__alpha': 0.0001,\n",
       " 'svm__loss': 'hinge',\n",
       " 'svm__penalty': 'l2',\n",
       " 'tfidf__norm': 'l2',\n",
       " 'tfidf__smooth_idf': True,\n",
       " 'tfidf__sublinear_tf': True,\n",
       " 'tfidf__use_idf': True,\n",
       " 'vect__binary': True,\n",
       " 'vect__max_df': 0.9,\n",
       " 'vect__min_df': 0.0,\n",
       " 'vect__ngram_range': (1, 2),\n",
       " 'vect__strip_accents': None}"
      ]
     },
     "execution_count": 143,
     "metadata": {},
     "output_type": "execute_result"
    }
   ],
   "source": [
    "gs_svm.best_params_"
   ]
  },
  {
   "cell_type": "code",
   "execution_count": 144,
   "metadata": {},
   "outputs": [
    {
     "data": {
      "text/plain": [
       "0.8636363636363635"
      ]
     },
     "execution_count": 144,
     "metadata": {},
     "output_type": "execute_result"
    }
   ],
   "source": [
    "# F measure of SVM method\n",
    "f1_score(y_true=documents_label_test,\n",
    "         y_pred=gs_svm.predict(documents_test))"
   ]
  },
  {
   "cell_type": "markdown",
   "metadata": {},
   "source": [
    "### ========================================================================================="
   ]
  },
  {
   "cell_type": "markdown",
   "metadata": {},
   "source": [
    "# Conclusion"
   ]
  },
  {
   "cell_type": "markdown",
   "metadata": {},
   "source": [
    "   So far, we have applied two approaches: graph mining and text mining.\n",
    "   - **In graph mining**, we measure unrelibale score of a news based on people post that news. If a news is posted by people who usually post fake news, the news will be more likely to be considered as fake. \n",
    "   - **In text mining**, Support Vector Machines obtains higher F-measure than Naive Bayes classifier does. Nevertheless, these two methods do not get 1.000 of F-measure like graph mining approach does.\n",
    "   \n",
    "   => We use *graph* model to predict on the target unknown-label data set."
   ]
  },
  {
   "cell_type": "markdown",
   "metadata": {},
   "source": [
    "#### -------------------------------------------------------------------------------------------------------------------------------------------------------------- Khanh Truong - Coline Merlen"
   ]
  }
 ],
 "metadata": {
  "kernelspec": {
   "display_name": "Python 3",
   "language": "python",
   "name": "python3"
  },
  "language_info": {
   "codemirror_mode": {
    "name": "ipython",
    "version": 3
   },
   "file_extension": ".py",
   "mimetype": "text/x-python",
   "name": "python",
   "nbconvert_exporter": "python",
   "pygments_lexer": "ipython3",
   "version": "3.6.8"
  },
  "varInspector": {
   "cols": {
    "lenName": 16,
    "lenType": 16,
    "lenVar": 40
   },
   "kernels_config": {
    "python": {
     "delete_cmd_postfix": "",
     "delete_cmd_prefix": "del ",
     "library": "var_list.py",
     "varRefreshCmd": "print(var_dic_list())"
    },
    "r": {
     "delete_cmd_postfix": ") ",
     "delete_cmd_prefix": "rm(",
     "library": "var_list.r",
     "varRefreshCmd": "cat(var_dic_list()) "
    }
   },
   "types_to_exclude": [
    "module",
    "function",
    "builtin_function_or_method",
    "instance",
    "_Feature"
   ],
   "window_display": false
  }
 },
 "nbformat": 4,
 "nbformat_minor": 2
}
